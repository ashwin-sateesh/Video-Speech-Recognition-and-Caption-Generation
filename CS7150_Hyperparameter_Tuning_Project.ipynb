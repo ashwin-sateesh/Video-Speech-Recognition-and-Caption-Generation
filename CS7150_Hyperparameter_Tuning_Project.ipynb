{
  "cells": [
    {
      "cell_type": "code",
      "execution_count": 220,
      "metadata": {
        "colab": {
          "base_uri": "https://localhost:8080/"
        },
        "id": "QirIsW-RsiS0",
        "outputId": "a6c4082b-76ed-4cc1-a4d5-41e313b27b5a"
      },
      "outputs": [
        {
          "output_type": "stream",
          "name": "stdout",
          "text": [
            "Drive already mounted at /content/gdrive; to attempt to forcibly remount, call drive.mount(\"/content/gdrive\", force_remount=True).\n"
          ]
        }
      ],
      "source": [
        "from google.colab import drive\n",
        "drive.mount('/content/gdrive')"
      ]
    },
    {
      "cell_type": "code",
      "execution_count": 1,
      "metadata": {
        "id": "621w0wsxGzUR"
      },
      "outputs": [],
      "source": [
        "!pip install keras-tuner\n",
        "!pip install mtcnn\n",
        "!pip install pillow"
      ]
    },
    {
      "cell_type": "code",
      "execution_count": null,
      "metadata": {
        "id": "DbKRz-UJsx4B"
      },
      "outputs": [],
      "source": [
        "#import math\n",
        "#import os\n",
        "import numpy as np\n",
        "import tensorflow as tf\n",
        "import keras\n",
        "#import pandas as pd\n",
        "#import glob\n",
        "#import cv2\n",
        "#import os\n",
        "#import seaborn as sns\n",
        "#import matplotlib.pyplot as plt\n",
        "from google.colab.patches import cv2_imshow\n",
        "#import tensorflow as tf\n",
        "#from mtcnn import MTCNN\n",
        "#from keras.applications.resnet import ResNet50\n",
        "#import mxnet as mx\n",
        "#from mxnet.gluon.model_zoo.vision import resnet34_v1,resnet34_v2\n",
        "from keras.applications.vgg19 import VGG19\n",
        "from keras.models import Sequential\n",
        "from keras.layers import LSTM, Dense, MultiHeadAttention, Lambda, Conv1D, InputLayer\n",
        "from keras.utils import to_categorical\n",
        "#from sklearn.metrics import accuracy_score\n",
        "from keras import metrics\n",
        "#from keras.applications.vgg16 import VGG16\n",
        "from keras.models import Model\n",
        "from sklearn.model_selection import train_test_split\n",
        "from keras.layers import Input, Dense, LSTM, Attention, Flatten, GlobalAveragePooling1D, LayerNormalization, Dropout, Concatenate, Layer, BatchNormalization\n",
        "from keras.models import Model\n",
        "#from tensorflow.keras.preprocessing.image import array_to_img\n",
        "from keras.optimizers import Adam\n",
        "from keras.callbacks import EarlyStopping\n",
        "#from keras.backend import variable\n",
        "#from tensorflow.keras.applications import vit\n",
        "#!pip install tensorflow-addons\n",
        "#import tensorflow_addons as tfa\n",
        "#from vit_keras import VisionTransformer\n",
        "from tensorflow.keras.optimizers import SGD\n",
        "import pickle\n",
        "from tensorflow.keras.preprocessing.sequence import pad_sequences\n",
        "#import kerastuner as kt\n",
        "from mtcnn import MTCNN\n",
        "from PIL import Image"
      ]
    },
    {
      "cell_type": "markdown",
      "source": [
        "###Transformer functions"
      ],
      "metadata": {
        "id": "eOZDmmvdV0N6"
      }
    },
    {
      "cell_type": "code",
      "execution_count": null,
      "metadata": {
        "id": "16V4-0N0sx0Z"
      },
      "outputs": [],
      "source": [
        "def transformer_block(inputs, key_dim , num_heads, ff_dim, dropout, name):\n",
        "  attention_out = MultiHeadAttention(num_heads = num_heads, key_dim=key_dim, name=name+'_multi_head')(inputs,inputs)\n",
        "  #attention_out = Dense(inputs.shape[-1], name=name+'_attn_dense')(attention_out)\n",
        "  dropout1 = Dropout(dropout)(attention_out)\n",
        "  out1 = LayerNormalization()(inputs+dropout1)\n",
        "  ffn = Sequential([\n",
        "      Dense(ff_dim,activation='relu'),\n",
        "      Dense(inputs.shape[2])], name=name+\"_ffn\")\n",
        "  ffn_out = ffn(out1)\n",
        "  dropout1 = Dropout(dropout)(ffn_out)\n",
        "  final_out = LayerNormalization()(out1+dropout1)\n",
        "  return final_out\n",
        "\n",
        "def transformer_model(input, num_transformers,key_dim, num_heads, ff_dim, dropout, pos_encod_type):\n",
        "  if pos_encod_type=='traditional':\n",
        "    pos_enc = Traditional_Positional_Encoding()(input)\n",
        "  elif pos_encod_type=='learned':\n",
        "    pos_enc = Learned_Positional_Encoding()(input)\n",
        "  else:\n",
        "    pos_enc = 0\n",
        "  \n",
        "  pos_enc = tf.cast(pos_enc, dtype=tf.float32)\n",
        "  x = pos_enc + input\n",
        "  for i in range(num_transformers):\n",
        "    x += transformer_block(x,key_dim=key_dim, num_heads=num_heads,ff_dim =ff_dim, dropout=dropout,name=\"Transformer_\"+str(i+1))\n",
        "  x = GlobalAveragePooling1D()(x)\n",
        "  out = Dense(10,activation='softmax')(x)\n",
        "  model = Model(inputs=input,outputs=out)\n",
        "  return model\n",
        "\n",
        "\n",
        "class Traditional_Positional_Encoding(Layer):\n",
        "    def __init__(self, **kwargs):\n",
        "        super(Traditional_Positional_Encoding, self).__init__(**kwargs)\n",
        "        self.seq_len = 22\n",
        "\n",
        "    def call(self, inputs,**kwargs):\n",
        "      input_dim = inputs.shape[-1]\n",
        "      seq_len = self.seq_len\n",
        "      max_len=25.0\n",
        "      k = np.arange(0,input_dim,dtype=float)[None,:]\n",
        "      pos = np.arange(0,seq_len, dtype=float)[:,None]\n",
        "        \n",
        "      i = k//2\n",
        "      pe = pos/(max_len**(2*i/input_dim))\n",
        "      pe[:,0::2] = np.sin(pe[:,0::2])\n",
        "      pe[:,1::2] = np.cos(pe[:,1::2])\n",
        "      pe = tf.convert_to_tensor(pe)\n",
        "      pe = tf.expand_dims(pe, axis=0)\n",
        "      return pe\n",
        "\n",
        "\n",
        "class Learned_Positional_Encoding(Layer):\n",
        "    def __init__(self, **kwargs):\n",
        "        super(Learned_Positional_Encoding, self).__init__(**kwargs)\n",
        "        self.conv1= Conv1D(filters=128, kernel_size=5, padding='same', activation='relu')\n",
        "        self.conv2 = Conv1D(filters=128, kernel_size=1, activation='linear')\n",
        "        self.dense1 = Dense(units=1, activation=None)\n",
        "\n",
        "    def call(self, inputs,**kwargs):\n",
        "      batch_size, seq_len, input_dim = inputs.shape\n",
        "      pe = inputs * tf.math.sqrt(tf.cast(input_dim, tf.float32))\n",
        "      pe = Lambda(lambda i: tf.expand_dims(i, axis=-1))(pe)\n",
        "      pe = self.conv1(pe)\n",
        "      pe = self.conv2(pe)\n",
        "      pe = self.dense1(pe)\n",
        "      pe = tf.reshape(pe,tf.shape(inputs))\n",
        "      return pe"
      ]
    },
    {
      "cell_type": "markdown",
      "source": [
        "###Feature vectors from RESNET for words"
      ],
      "metadata": {
        "id": "PVgtG8GCV9Mv"
      }
    },
    {
      "cell_type": "code",
      "execution_count": null,
      "metadata": {
        "colab": {
          "base_uri": "https://localhost:8080/"
        },
        "id": "dpedJvKXsxyC",
        "outputId": "92aaba8e-d3d6-4164-c616-e0f913df94a8"
      },
      "outputs": [
        {
          "name": "stdout",
          "output_type": "stream",
          "text": [
            "(1500, 22, 2048)\n"
          ]
        }
      ],
      "source": [
        "with open('/content/gdrive/MyDrive/HW_CS7150_DL/pkl/miracl_feature_maps_resnet_words.pkl', 'rb') as f:\n",
        "    data = pickle.load(f)\n",
        "\n",
        "X = data['x']\n",
        "y = data['y']-1\n",
        "\n",
        "max_seq_len = max(len(seq) for seq in X)\n",
        "X_padded = pad_sequences(X, maxlen=max_seq_len, padding='pre')\n",
        "print(X_padded.shape)"
      ]
    },
    {
      "cell_type": "code",
      "execution_count": null,
      "metadata": {
        "colab": {
          "base_uri": "https://localhost:8080/"
        },
        "id": "CdfhaoBFsxvR",
        "outputId": "86e376b3-8c8c-4e3d-a936-3ca85bd1934a"
      },
      "outputs": [
        {
          "name": "stdout",
          "output_type": "stream",
          "text": [
            "Training data shape: (1200, 22, 2048)\n",
            "Testing data shape: (300, 22, 2048)\n",
            "Training label shape: (1200,)\n",
            "Testing label shape: (300,)\n"
          ]
        }
      ],
      "source": [
        "X_train2, X_test2, y_train2, y_test2 = train_test_split(X_padded, np.array(y), test_size=0.2, random_state=42)\n",
        "\n",
        "print(\"Training data shape:\", X_train2.shape)\n",
        "print(\"Testing data shape:\", X_test2.shape)\n",
        "print(\"Training label shape:\", y_train2.shape)\n",
        "print(\"Testing label shape:\", y_test2.shape)"
      ]
    },
    {
      "cell_type": "markdown",
      "source": [
        "###RESNET + LSTM for words"
      ],
      "metadata": {
        "id": "HjLSR0u0WHxW"
      }
    },
    {
      "cell_type": "code",
      "execution_count": null,
      "metadata": {
        "colab": {
          "base_uri": "https://localhost:8080/"
        },
        "id": "eWiWUoEsIgrM",
        "outputId": "0dd13d8f-53a5-4562-edac-faaac05607c2"
      },
      "outputs": [
        {
          "name": "stdout",
          "output_type": "stream",
          "text": [
            "Epoch 1/50\n",
            "10/10 [==============================] - 4s 87ms/step - loss: 2.3776 - accuracy: 0.1175 - val_loss: 2.3227 - val_accuracy: 0.1133\n",
            "Epoch 2/50\n",
            "10/10 [==============================] - 0s 32ms/step - loss: 2.2541 - accuracy: 0.1725 - val_loss: 2.3019 - val_accuracy: 0.1367\n",
            "Epoch 3/50\n",
            "10/10 [==============================] - 0s 32ms/step - loss: 2.2209 - accuracy: 0.2117 - val_loss: 2.2621 - val_accuracy: 0.1533\n",
            "Epoch 4/50\n",
            "10/10 [==============================] - 0s 31ms/step - loss: 2.1650 - accuracy: 0.2292 - val_loss: 2.2313 - val_accuracy: 0.1700\n",
            "Epoch 5/50\n",
            "10/10 [==============================] - 0s 29ms/step - loss: 2.1002 - accuracy: 0.2950 - val_loss: 2.1982 - val_accuracy: 0.2167\n",
            "Epoch 6/50\n",
            "10/10 [==============================] - 0s 43ms/step - loss: 2.0420 - accuracy: 0.3350 - val_loss: 2.1732 - val_accuracy: 0.2000\n",
            "Epoch 7/50\n",
            "10/10 [==============================] - 0s 48ms/step - loss: 1.9889 - accuracy: 0.3575 - val_loss: 2.1296 - val_accuracy: 0.2300\n",
            "Epoch 8/50\n",
            "10/10 [==============================] - 0s 37ms/step - loss: 1.9313 - accuracy: 0.4300 - val_loss: 2.0846 - val_accuracy: 0.2733\n",
            "Epoch 9/50\n",
            "10/10 [==============================] - 0s 39ms/step - loss: 1.8606 - accuracy: 0.4467 - val_loss: 2.0676 - val_accuracy: 0.2767\n",
            "Epoch 10/50\n",
            "10/10 [==============================] - 0s 39ms/step - loss: 1.7981 - accuracy: 0.4875 - val_loss: 2.0246 - val_accuracy: 0.3333\n",
            "Epoch 11/50\n",
            "10/10 [==============================] - 0s 32ms/step - loss: 1.7243 - accuracy: 0.5192 - val_loss: 1.9812 - val_accuracy: 0.3100\n",
            "Epoch 12/50\n",
            "10/10 [==============================] - 0s 34ms/step - loss: 1.6432 - accuracy: 0.5758 - val_loss: 1.9377 - val_accuracy: 0.3333\n",
            "Epoch 13/50\n",
            "10/10 [==============================] - 0s 35ms/step - loss: 1.5689 - accuracy: 0.6142 - val_loss: 1.8868 - val_accuracy: 0.3733\n",
            "Epoch 14/50\n",
            "10/10 [==============================] - 0s 40ms/step - loss: 1.4968 - accuracy: 0.6425 - val_loss: 1.8744 - val_accuracy: 0.3700\n",
            "Epoch 15/50\n",
            "10/10 [==============================] - 0s 48ms/step - loss: 1.4573 - accuracy: 0.6650 - val_loss: 1.7893 - val_accuracy: 0.4000\n",
            "Epoch 16/50\n",
            "10/10 [==============================] - 0s 38ms/step - loss: 1.3480 - accuracy: 0.7150 - val_loss: 1.7877 - val_accuracy: 0.3900\n",
            "Epoch 17/50\n",
            "10/10 [==============================] - 0s 47ms/step - loss: 1.3128 - accuracy: 0.7300 - val_loss: 1.7259 - val_accuracy: 0.4067\n",
            "Epoch 18/50\n",
            "10/10 [==============================] - 1s 54ms/step - loss: 1.2563 - accuracy: 0.7417 - val_loss: 1.6977 - val_accuracy: 0.3900\n",
            "Epoch 19/50\n",
            "10/10 [==============================] - 1s 54ms/step - loss: 1.1731 - accuracy: 0.7817 - val_loss: 1.6370 - val_accuracy: 0.4400\n",
            "Epoch 20/50\n",
            "10/10 [==============================] - 0s 39ms/step - loss: 1.1234 - accuracy: 0.7950 - val_loss: 1.5852 - val_accuracy: 0.4833\n",
            "Epoch 21/50\n",
            "10/10 [==============================] - 1s 52ms/step - loss: 1.0507 - accuracy: 0.8300 - val_loss: 1.5557 - val_accuracy: 0.4967\n",
            "Epoch 22/50\n",
            "10/10 [==============================] - 0s 43ms/step - loss: 0.9755 - accuracy: 0.8475 - val_loss: 1.5138 - val_accuracy: 0.4800\n",
            "Epoch 23/50\n",
            "10/10 [==============================] - 0s 35ms/step - loss: 0.9214 - accuracy: 0.8575 - val_loss: 1.4852 - val_accuracy: 0.5200\n",
            "Epoch 24/50\n",
            "10/10 [==============================] - 0s 35ms/step - loss: 0.8502 - accuracy: 0.8867 - val_loss: 1.4523 - val_accuracy: 0.5300\n",
            "Epoch 25/50\n",
            "10/10 [==============================] - 0s 32ms/step - loss: 0.8229 - accuracy: 0.8867 - val_loss: 1.4128 - val_accuracy: 0.5400\n",
            "Epoch 26/50\n",
            "10/10 [==============================] - 0s 31ms/step - loss: 0.7721 - accuracy: 0.9133 - val_loss: 1.3944 - val_accuracy: 0.5367\n",
            "Epoch 27/50\n",
            "10/10 [==============================] - 0s 43ms/step - loss: 0.7121 - accuracy: 0.9183 - val_loss: 1.3466 - val_accuracy: 0.5767\n",
            "Epoch 28/50\n",
            "10/10 [==============================] - 0s 40ms/step - loss: 0.6742 - accuracy: 0.9308 - val_loss: 1.3105 - val_accuracy: 0.5600\n",
            "Epoch 29/50\n",
            "10/10 [==============================] - 0s 38ms/step - loss: 0.6316 - accuracy: 0.9383 - val_loss: 1.2952 - val_accuracy: 0.5667\n",
            "Epoch 30/50\n",
            "10/10 [==============================] - 1s 53ms/step - loss: 0.5802 - accuracy: 0.9483 - val_loss: 1.2557 - val_accuracy: 0.6033\n",
            "Epoch 31/50\n",
            "10/10 [==============================] - 1s 54ms/step - loss: 0.5348 - accuracy: 0.9608 - val_loss: 1.2625 - val_accuracy: 0.5900\n",
            "Epoch 32/50\n",
            "10/10 [==============================] - 0s 47ms/step - loss: 0.4929 - accuracy: 0.9633 - val_loss: 1.2043 - val_accuracy: 0.6167\n",
            "Epoch 33/50\n",
            "10/10 [==============================] - 0s 40ms/step - loss: 0.4461 - accuracy: 0.9808 - val_loss: 1.2071 - val_accuracy: 0.6367\n",
            "Epoch 34/50\n",
            "10/10 [==============================] - 0s 33ms/step - loss: 0.4141 - accuracy: 0.9825 - val_loss: 1.1447 - val_accuracy: 0.6400\n",
            "Epoch 35/50\n",
            "10/10 [==============================] - 0s 31ms/step - loss: 0.3868 - accuracy: 0.9808 - val_loss: 1.1365 - val_accuracy: 0.6433\n",
            "Epoch 36/50\n",
            "10/10 [==============================] - 0s 31ms/step - loss: 0.3575 - accuracy: 0.9875 - val_loss: 1.1043 - val_accuracy: 0.6300\n",
            "Epoch 37/50\n",
            "10/10 [==============================] - 0s 31ms/step - loss: 0.3418 - accuracy: 0.9858 - val_loss: 1.1237 - val_accuracy: 0.6500\n",
            "Epoch 38/50\n",
            "10/10 [==============================] - 0s 33ms/step - loss: 0.3219 - accuracy: 0.9917 - val_loss: 1.0660 - val_accuracy: 0.6533\n",
            "Epoch 39/50\n",
            "10/10 [==============================] - 0s 29ms/step - loss: 0.2987 - accuracy: 0.9942 - val_loss: 1.0469 - val_accuracy: 0.6567\n",
            "Epoch 40/50\n",
            "10/10 [==============================] - 0s 29ms/step - loss: 0.2640 - accuracy: 0.9933 - val_loss: 1.0619 - val_accuracy: 0.6633\n",
            "Epoch 41/50\n",
            "10/10 [==============================] - 0s 35ms/step - loss: 0.2601 - accuracy: 0.9942 - val_loss: 1.0057 - val_accuracy: 0.6733\n",
            "Epoch 42/50\n",
            "10/10 [==============================] - 0s 36ms/step - loss: 0.2352 - accuracy: 0.9983 - val_loss: 0.9778 - val_accuracy: 0.6867\n",
            "Epoch 43/50\n",
            "10/10 [==============================] - 0s 37ms/step - loss: 0.2174 - accuracy: 0.9975 - val_loss: 0.9737 - val_accuracy: 0.6900\n",
            "Epoch 44/50\n",
            "10/10 [==============================] - 0s 39ms/step - loss: 0.1996 - accuracy: 1.0000 - val_loss: 0.9408 - val_accuracy: 0.7033\n",
            "Epoch 45/50\n",
            "10/10 [==============================] - 0s 34ms/step - loss: 0.1832 - accuracy: 1.0000 - val_loss: 0.9389 - val_accuracy: 0.7133\n",
            "Epoch 46/50\n",
            "10/10 [==============================] - 0s 35ms/step - loss: 0.1828 - accuracy: 0.9975 - val_loss: 0.9480 - val_accuracy: 0.6933\n",
            "Epoch 47/50\n",
            "10/10 [==============================] - 0s 35ms/step - loss: 0.1792 - accuracy: 0.9983 - val_loss: 0.9639 - val_accuracy: 0.6700\n",
            "Epoch 48/50\n",
            "10/10 [==============================] - 0s 37ms/step - loss: 0.1643 - accuracy: 0.9992 - val_loss: 0.9311 - val_accuracy: 0.6833\n",
            "Epoch 49/50\n",
            "10/10 [==============================] - 0s 39ms/step - loss: 0.1453 - accuracy: 1.0000 - val_loss: 0.8971 - val_accuracy: 0.7300\n",
            "Epoch 50/50\n",
            "10/10 [==============================] - 0s 34ms/step - loss: 0.1332 - accuracy: 1.0000 - val_loss: 0.8841 - val_accuracy: 0.7133\n"
          ]
        }
      ],
      "source": [
        "# Define model architecture\n",
        "model_resnet_words = Sequential()\n",
        "model_resnet_words.add(LSTM(units=128, input_shape=(22,2048)))\n",
        "model_resnet_words.add(Dense(units=10, activation='softmax'))\n",
        "\n",
        "# Compile model\n",
        "model_resnet_words.compile(optimizer='adam', loss='categorical_crossentropy', metrics=['accuracy'])\n",
        "\n",
        "# Split data into train and test sets\n",
        "\n",
        "train_y2 = to_categorical(y_train2, num_classes=10)\n",
        "test_y2 = to_categorical(y_test2, num_classes=10)\n",
        "\n",
        "# Train model with input data of shape (1500, 22, 2048) and validate on test set\n",
        "history_resnet_words = model_resnet_words.fit(X_train2, train_y2 , epochs=50, validation_data=(X_test2, test_y2), batch_size=128)\n",
        "\n",
        "# Predict using the trained model\n",
        "#predictions = model.predict(X_test2)\n",
        "#print(predictions.shape)"
      ]
    },
    {
      "cell_type": "markdown",
      "source": [
        "### RESNET + LSTM with Attention for words"
      ],
      "metadata": {
        "id": "CpjjDdbQWMy2"
      }
    },
    {
      "cell_type": "code",
      "execution_count": null,
      "metadata": {
        "colab": {
          "base_uri": "https://localhost:8080/"
        },
        "id": "YpJULcSrIgn2",
        "outputId": "b8bcf8e0-ff99-4c02-c111-a9df04b6f92f"
      },
      "outputs": [
        {
          "name": "stdout",
          "output_type": "stream",
          "text": [
            "Epoch 1/50\n",
            "10/10 [==============================] - 4s 96ms/step - loss: 2.3111 - accuracy: 0.1350 - val_loss: 2.2175 - val_accuracy: 0.1700\n",
            "Epoch 2/50\n",
            "10/10 [==============================] - 0s 33ms/step - loss: 2.1347 - accuracy: 0.2300 - val_loss: 2.0768 - val_accuracy: 0.2400\n",
            "Epoch 3/50\n",
            "10/10 [==============================] - 0s 31ms/step - loss: 1.9323 - accuracy: 0.3533 - val_loss: 1.9145 - val_accuracy: 0.3700\n",
            "Epoch 4/50\n",
            "10/10 [==============================] - 0s 32ms/step - loss: 1.7436 - accuracy: 0.4692 - val_loss: 1.7389 - val_accuracy: 0.4300\n",
            "Epoch 5/50\n",
            "10/10 [==============================] - 0s 28ms/step - loss: 1.5202 - accuracy: 0.5508 - val_loss: 1.5551 - val_accuracy: 0.5300\n",
            "Epoch 6/50\n",
            "10/10 [==============================] - 0s 31ms/step - loss: 1.3107 - accuracy: 0.6392 - val_loss: 1.4332 - val_accuracy: 0.5800\n",
            "Epoch 7/50\n",
            "10/10 [==============================] - 0s 29ms/step - loss: 1.1395 - accuracy: 0.6967 - val_loss: 1.2860 - val_accuracy: 0.5967\n",
            "Epoch 8/50\n",
            "10/10 [==============================] - 0s 27ms/step - loss: 0.9545 - accuracy: 0.7575 - val_loss: 1.1416 - val_accuracy: 0.6267\n",
            "Epoch 9/50\n",
            "10/10 [==============================] - 0s 31ms/step - loss: 0.8011 - accuracy: 0.8167 - val_loss: 1.0898 - val_accuracy: 0.6667\n",
            "Epoch 10/50\n",
            "10/10 [==============================] - 0s 32ms/step - loss: 0.6838 - accuracy: 0.8558 - val_loss: 0.9797 - val_accuracy: 0.6833\n",
            "Epoch 11/50\n",
            "10/10 [==============================] - 0s 29ms/step - loss: 0.5898 - accuracy: 0.8708 - val_loss: 0.8788 - val_accuracy: 0.7500\n",
            "Epoch 12/50\n",
            "10/10 [==============================] - 0s 32ms/step - loss: 0.4904 - accuracy: 0.9083 - val_loss: 0.8561 - val_accuracy: 0.7467\n",
            "Epoch 13/50\n",
            "10/10 [==============================] - 0s 31ms/step - loss: 0.4163 - accuracy: 0.9133 - val_loss: 0.7395 - val_accuracy: 0.7967\n",
            "Epoch 14/50\n",
            "10/10 [==============================] - 0s 30ms/step - loss: 0.3404 - accuracy: 0.9525 - val_loss: 0.7368 - val_accuracy: 0.7767\n",
            "Epoch 15/50\n",
            "10/10 [==============================] - 0s 29ms/step - loss: 0.3036 - accuracy: 0.9500 - val_loss: 0.6365 - val_accuracy: 0.8333\n",
            "Epoch 16/50\n",
            "10/10 [==============================] - 0s 30ms/step - loss: 0.2395 - accuracy: 0.9675 - val_loss: 0.7573 - val_accuracy: 0.7633\n",
            "Epoch 17/50\n",
            "10/10 [==============================] - 0s 30ms/step - loss: 0.2344 - accuracy: 0.9633 - val_loss: 0.6482 - val_accuracy: 0.7967\n",
            "Epoch 18/50\n",
            "10/10 [==============================] - 0s 32ms/step - loss: 0.1907 - accuracy: 0.9725 - val_loss: 0.5742 - val_accuracy: 0.8200\n",
            "Epoch 19/50\n",
            "10/10 [==============================] - 0s 30ms/step - loss: 0.1412 - accuracy: 0.9900 - val_loss: 0.5535 - val_accuracy: 0.8200\n",
            "Epoch 20/50\n",
            "10/10 [==============================] - 0s 29ms/step - loss: 0.1337 - accuracy: 0.9842 - val_loss: 0.5377 - val_accuracy: 0.8167\n",
            "Epoch 21/50\n",
            "10/10 [==============================] - 0s 29ms/step - loss: 0.1015 - accuracy: 0.9933 - val_loss: 0.5001 - val_accuracy: 0.8400\n",
            "Epoch 22/50\n",
            "10/10 [==============================] - 0s 30ms/step - loss: 0.0747 - accuracy: 0.9950 - val_loss: 0.5010 - val_accuracy: 0.8533\n",
            "Epoch 23/50\n",
            "10/10 [==============================] - 0s 30ms/step - loss: 0.0703 - accuracy: 0.9967 - val_loss: 0.5408 - val_accuracy: 0.8233\n",
            "Epoch 24/50\n",
            "10/10 [==============================] - 0s 31ms/step - loss: 0.0729 - accuracy: 0.9942 - val_loss: 0.4559 - val_accuracy: 0.8433\n",
            "Epoch 25/50\n",
            "10/10 [==============================] - 0s 29ms/step - loss: 0.0496 - accuracy: 0.9975 - val_loss: 0.4732 - val_accuracy: 0.8400\n",
            "Epoch 26/50\n",
            "10/10 [==============================] - 0s 31ms/step - loss: 0.0392 - accuracy: 1.0000 - val_loss: 0.4123 - val_accuracy: 0.8500\n",
            "Epoch 27/50\n",
            "10/10 [==============================] - 0s 32ms/step - loss: 0.0327 - accuracy: 0.9992 - val_loss: 0.4446 - val_accuracy: 0.8600\n",
            "Epoch 28/50\n",
            "10/10 [==============================] - 0s 30ms/step - loss: 0.0256 - accuracy: 1.0000 - val_loss: 0.4317 - val_accuracy: 0.8533\n",
            "Epoch 29/50\n",
            "10/10 [==============================] - 0s 28ms/step - loss: 0.0206 - accuracy: 1.0000 - val_loss: 0.4152 - val_accuracy: 0.8533\n",
            "Epoch 30/50\n",
            "10/10 [==============================] - 0s 29ms/step - loss: 0.0180 - accuracy: 1.0000 - val_loss: 0.4299 - val_accuracy: 0.8567\n",
            "Epoch 31/50\n",
            "10/10 [==============================] - 0s 30ms/step - loss: 0.0158 - accuracy: 1.0000 - val_loss: 0.3976 - val_accuracy: 0.8567\n",
            "Epoch 32/50\n",
            "10/10 [==============================] - 0s 29ms/step - loss: 0.0130 - accuracy: 1.0000 - val_loss: 0.3726 - val_accuracy: 0.8733\n",
            "Epoch 33/50\n",
            "10/10 [==============================] - 0s 35ms/step - loss: 0.0115 - accuracy: 1.0000 - val_loss: 0.3968 - val_accuracy: 0.8467\n",
            "Epoch 34/50\n",
            "10/10 [==============================] - 0s 38ms/step - loss: 0.0101 - accuracy: 1.0000 - val_loss: 0.3818 - val_accuracy: 0.8567\n",
            "Epoch 35/50\n",
            "10/10 [==============================] - 0s 39ms/step - loss: 0.0092 - accuracy: 1.0000 - val_loss: 0.3778 - val_accuracy: 0.8567\n",
            "Epoch 36/50\n",
            "10/10 [==============================] - 0s 43ms/step - loss: 0.0084 - accuracy: 1.0000 - val_loss: 0.3821 - val_accuracy: 0.8667\n",
            "Epoch 37/50\n",
            "10/10 [==============================] - 0s 41ms/step - loss: 0.0078 - accuracy: 1.0000 - val_loss: 0.3749 - val_accuracy: 0.8633\n",
            "Epoch 38/50\n",
            "10/10 [==============================] - 0s 49ms/step - loss: 0.0075 - accuracy: 1.0000 - val_loss: 0.3739 - val_accuracy: 0.8600\n",
            "Epoch 39/50\n",
            "10/10 [==============================] - 0s 46ms/step - loss: 0.0070 - accuracy: 1.0000 - val_loss: 0.3750 - val_accuracy: 0.8667\n",
            "Epoch 40/50\n",
            "10/10 [==============================] - 0s 40ms/step - loss: 0.0071 - accuracy: 1.0000 - val_loss: 0.3856 - val_accuracy: 0.8667\n",
            "Epoch 41/50\n",
            "10/10 [==============================] - 0s 49ms/step - loss: 0.0065 - accuracy: 1.0000 - val_loss: 0.3762 - val_accuracy: 0.8567\n",
            "Epoch 42/50\n",
            "10/10 [==============================] - 0s 39ms/step - loss: 0.0060 - accuracy: 1.0000 - val_loss: 0.3669 - val_accuracy: 0.8733\n",
            "Epoch 43/50\n",
            "10/10 [==============================] - 0s 30ms/step - loss: 0.0055 - accuracy: 1.0000 - val_loss: 0.3755 - val_accuracy: 0.8633\n",
            "Epoch 44/50\n",
            "10/10 [==============================] - 0s 30ms/step - loss: 0.0053 - accuracy: 1.0000 - val_loss: 0.3648 - val_accuracy: 0.8667\n",
            "Epoch 45/50\n",
            "10/10 [==============================] - 0s 32ms/step - loss: 0.0049 - accuracy: 1.0000 - val_loss: 0.3652 - val_accuracy: 0.8600\n",
            "Epoch 46/50\n",
            "10/10 [==============================] - 0s 33ms/step - loss: 0.0047 - accuracy: 1.0000 - val_loss: 0.3639 - val_accuracy: 0.8600\n",
            "Epoch 47/50\n",
            "10/10 [==============================] - 0s 30ms/step - loss: 0.0044 - accuracy: 1.0000 - val_loss: 0.3645 - val_accuracy: 0.8567\n",
            "Epoch 48/50\n",
            "10/10 [==============================] - 0s 33ms/step - loss: 0.0042 - accuracy: 1.0000 - val_loss: 0.3652 - val_accuracy: 0.8600\n",
            "Epoch 49/50\n",
            "10/10 [==============================] - 0s 31ms/step - loss: 0.0040 - accuracy: 1.0000 - val_loss: 0.3582 - val_accuracy: 0.8600\n",
            "Epoch 50/50\n",
            "10/10 [==============================] - 0s 30ms/step - loss: 0.0038 - accuracy: 1.0000 - val_loss: 0.3614 - val_accuracy: 0.8533\n"
          ]
        }
      ],
      "source": [
        "# Set the input shape\n",
        "input_shape = (22, 2048)\n",
        "\n",
        "def feat_res(input_shape):\n",
        "  \n",
        "# Define the attention-based LSTM model\n",
        "  inputs = Input(shape=input_shape)\n",
        "  lstm_out = LSTM(128, return_sequences=True)(inputs)\n",
        "  attention_out = Attention()([lstm_out, lstm_out],return_attention_scores=True)\n",
        "  flatten_out = Flatten()(attention_out[0])\n",
        "  dense_out = Dense(10, activation='softmax')(flatten_out)\n",
        "  #heatmap_out = AttentionHeatmap()([dense_out, attention_out[1]])\n",
        "  model = Model(inputs=inputs, outputs=dense_out)\n",
        "  return model, attention_out[1],attention_out\n",
        "\n",
        "# Compile model\n",
        "model_words_res_att, attention_weights, attention_out = feat_res(input_shape)\n",
        "model_words_res_att.compile(optimizer='adam', loss='categorical_crossentropy', metrics=['accuracy'])\n",
        "\n",
        "# Split data into train and test sets\n",
        "train_y2 = to_categorical(y_train2, num_classes=10)\n",
        "test_y2 = to_categorical(y_test2, num_classes=10)\n",
        "\n",
        "# Train model with input data of shape (1500, 22, 2048) and validate on test set\n",
        "hist_words_res_att = model_words_res_att.fit(X_train2, train_y2 , epochs=50, validation_data=(X_test2, test_y2), batch_size=128)\n",
        "\n",
        "# Predict using the trained model\n",
        "#predictions_resnet_attention = model_words_res_att.predict(X_test2)\n",
        "#print(predictions_resnet_attention.shape)"
      ]
    },
    {
      "cell_type": "markdown",
      "source": [
        "###RESNET + Transformer(traditional positional encoding) for words"
      ],
      "metadata": {
        "id": "ovjKkvsCWYan"
      }
    },
    {
      "cell_type": "code",
      "execution_count": null,
      "metadata": {
        "colab": {
          "base_uri": "https://localhost:8080/"
        },
        "id": "FYtM_RcgIglp",
        "outputId": "5281d910-c18b-4b59-fdb1-dc2ab6d0ab1c"
      },
      "outputs": [
        {
          "name": "stdout",
          "output_type": "stream",
          "text": [
            "Epoch 1/50\n",
            "19/19 [==============================] - 5s 114ms/step - loss: 3.4065 - accuracy: 0.1233 - val_loss: 3.0528 - val_accuracy: 0.1333\n",
            "Epoch 2/50\n",
            "19/19 [==============================] - 1s 77ms/step - loss: 2.4147 - accuracy: 0.2325 - val_loss: 2.2077 - val_accuracy: 0.2300\n",
            "Epoch 3/50\n",
            "19/19 [==============================] - 1s 73ms/step - loss: 2.0904 - accuracy: 0.3008 - val_loss: 2.2637 - val_accuracy: 0.2867\n",
            "Epoch 4/50\n",
            "19/19 [==============================] - 1s 73ms/step - loss: 1.9986 - accuracy: 0.3383 - val_loss: 2.0543 - val_accuracy: 0.3233\n",
            "Epoch 5/50\n",
            "19/19 [==============================] - 1s 72ms/step - loss: 1.8447 - accuracy: 0.3700 - val_loss: 1.9848 - val_accuracy: 0.3567\n",
            "Epoch 6/50\n",
            "19/19 [==============================] - 1s 73ms/step - loss: 1.6375 - accuracy: 0.4425 - val_loss: 1.8544 - val_accuracy: 0.3967\n",
            "Epoch 7/50\n",
            "19/19 [==============================] - 1s 72ms/step - loss: 1.5489 - accuracy: 0.4625 - val_loss: 1.6189 - val_accuracy: 0.4300\n",
            "Epoch 8/50\n",
            "19/19 [==============================] - 1s 72ms/step - loss: 1.4537 - accuracy: 0.4867 - val_loss: 1.7437 - val_accuracy: 0.4233\n",
            "Epoch 9/50\n",
            "19/19 [==============================] - 1s 72ms/step - loss: 1.3421 - accuracy: 0.5433 - val_loss: 1.5538 - val_accuracy: 0.4633\n",
            "Epoch 10/50\n",
            "19/19 [==============================] - 1s 76ms/step - loss: 1.2038 - accuracy: 0.6008 - val_loss: 1.4955 - val_accuracy: 0.4733\n",
            "Epoch 11/50\n",
            "19/19 [==============================] - 1s 76ms/step - loss: 1.2969 - accuracy: 0.5650 - val_loss: 1.4551 - val_accuracy: 0.5100\n",
            "Epoch 12/50\n",
            "19/19 [==============================] - 1s 74ms/step - loss: 1.3188 - accuracy: 0.5625 - val_loss: 1.3824 - val_accuracy: 0.5567\n",
            "Epoch 13/50\n",
            "19/19 [==============================] - 1s 73ms/step - loss: 1.1836 - accuracy: 0.6125 - val_loss: 1.3640 - val_accuracy: 0.5233\n",
            "Epoch 14/50\n",
            "19/19 [==============================] - 1s 73ms/step - loss: 1.0454 - accuracy: 0.6483 - val_loss: 1.3654 - val_accuracy: 0.5067\n",
            "Epoch 15/50\n",
            "19/19 [==============================] - 1s 74ms/step - loss: 1.0571 - accuracy: 0.6658 - val_loss: 1.3961 - val_accuracy: 0.5233\n",
            "Epoch 16/50\n",
            "19/19 [==============================] - 1s 74ms/step - loss: 1.0110 - accuracy: 0.6617 - val_loss: 1.2325 - val_accuracy: 0.5700\n",
            "Epoch 17/50\n",
            "19/19 [==============================] - 1s 75ms/step - loss: 0.9062 - accuracy: 0.7042 - val_loss: 1.2433 - val_accuracy: 0.5633\n",
            "Epoch 18/50\n",
            "19/19 [==============================] - 1s 74ms/step - loss: 0.9022 - accuracy: 0.7108 - val_loss: 1.1460 - val_accuracy: 0.6067\n",
            "Epoch 19/50\n",
            "19/19 [==============================] - 1s 76ms/step - loss: 0.9220 - accuracy: 0.7067 - val_loss: 1.1357 - val_accuracy: 0.6033\n",
            "Epoch 20/50\n",
            "19/19 [==============================] - 1s 78ms/step - loss: 0.8332 - accuracy: 0.7267 - val_loss: 1.1575 - val_accuracy: 0.6067\n",
            "Epoch 21/50\n",
            "19/19 [==============================] - 1s 79ms/step - loss: 0.8357 - accuracy: 0.7400 - val_loss: 1.0350 - val_accuracy: 0.6333\n",
            "Epoch 22/50\n",
            "19/19 [==============================] - 1s 77ms/step - loss: 0.7261 - accuracy: 0.7725 - val_loss: 0.9800 - val_accuracy: 0.6667\n",
            "Epoch 23/50\n",
            "19/19 [==============================] - 1s 76ms/step - loss: 0.7182 - accuracy: 0.7892 - val_loss: 1.0341 - val_accuracy: 0.6400\n",
            "Epoch 24/50\n",
            "19/19 [==============================] - 1s 75ms/step - loss: 0.7248 - accuracy: 0.7775 - val_loss: 1.0624 - val_accuracy: 0.6233\n",
            "Epoch 25/50\n",
            "19/19 [==============================] - 1s 76ms/step - loss: 0.8318 - accuracy: 0.7125 - val_loss: 1.1096 - val_accuracy: 0.6000\n",
            "Epoch 26/50\n",
            "19/19 [==============================] - 1s 76ms/step - loss: 0.7285 - accuracy: 0.7667 - val_loss: 1.0183 - val_accuracy: 0.6433\n",
            "Epoch 27/50\n",
            "19/19 [==============================] - 1s 76ms/step - loss: 0.6682 - accuracy: 0.7792 - val_loss: 0.8441 - val_accuracy: 0.7067\n",
            "Epoch 28/50\n",
            "19/19 [==============================] - 1s 77ms/step - loss: 0.6041 - accuracy: 0.8100 - val_loss: 0.9393 - val_accuracy: 0.6767\n",
            "Epoch 29/50\n",
            "19/19 [==============================] - 1s 78ms/step - loss: 0.5492 - accuracy: 0.8275 - val_loss: 0.8819 - val_accuracy: 0.6933\n",
            "Epoch 30/50\n",
            "19/19 [==============================] - 2s 80ms/step - loss: 0.5109 - accuracy: 0.8442 - val_loss: 0.8745 - val_accuracy: 0.6833\n",
            "Epoch 31/50\n",
            "19/19 [==============================] - 1s 77ms/step - loss: 0.4826 - accuracy: 0.8600 - val_loss: 0.8026 - val_accuracy: 0.7333\n",
            "Epoch 32/50\n",
            "19/19 [==============================] - 2s 84ms/step - loss: 0.4446 - accuracy: 0.8725 - val_loss: 0.7923 - val_accuracy: 0.7167\n",
            "Epoch 33/50\n",
            "19/19 [==============================] - 2s 96ms/step - loss: 0.4599 - accuracy: 0.8558 - val_loss: 0.8041 - val_accuracy: 0.7367\n",
            "Epoch 34/50\n",
            "19/19 [==============================] - 1s 78ms/step - loss: 0.4095 - accuracy: 0.8867 - val_loss: 0.7288 - val_accuracy: 0.7767\n",
            "Epoch 35/50\n",
            "19/19 [==============================] - 2s 85ms/step - loss: 0.3630 - accuracy: 0.9017 - val_loss: 0.7729 - val_accuracy: 0.7100\n",
            "Epoch 36/50\n",
            "19/19 [==============================] - 2s 80ms/step - loss: 0.3854 - accuracy: 0.8867 - val_loss: 1.0594 - val_accuracy: 0.6700\n",
            "Epoch 37/50\n",
            "19/19 [==============================] - 2s 85ms/step - loss: 0.4217 - accuracy: 0.8642 - val_loss: 0.9447 - val_accuracy: 0.6567\n",
            "Epoch 38/50\n",
            "19/19 [==============================] - 2s 90ms/step - loss: 0.3494 - accuracy: 0.9033 - val_loss: 0.6903 - val_accuracy: 0.7533\n",
            "Epoch 39/50\n",
            "19/19 [==============================] - 2s 99ms/step - loss: 0.3240 - accuracy: 0.9158 - val_loss: 0.6480 - val_accuracy: 0.7900\n",
            "Epoch 40/50\n",
            "19/19 [==============================] - 1s 76ms/step - loss: 0.3517 - accuracy: 0.8883 - val_loss: 0.7892 - val_accuracy: 0.7100\n",
            "Epoch 41/50\n",
            "19/19 [==============================] - 1s 77ms/step - loss: 0.2997 - accuracy: 0.9117 - val_loss: 0.6769 - val_accuracy: 0.7767\n",
            "Epoch 42/50\n",
            "19/19 [==============================] - 1s 75ms/step - loss: 0.2694 - accuracy: 0.9267 - val_loss: 0.7019 - val_accuracy: 0.7500\n",
            "Epoch 43/50\n",
            "19/19 [==============================] - 1s 78ms/step - loss: 0.2358 - accuracy: 0.9417 - val_loss: 0.6592 - val_accuracy: 0.7600\n",
            "Epoch 44/50\n",
            "19/19 [==============================] - 1s 78ms/step - loss: 0.2298 - accuracy: 0.9442 - val_loss: 0.6774 - val_accuracy: 0.7700\n",
            "Epoch 45/50\n",
            "19/19 [==============================] - 1s 77ms/step - loss: 0.2118 - accuracy: 0.9608 - val_loss: 0.5534 - val_accuracy: 0.8167\n",
            "Epoch 46/50\n",
            "19/19 [==============================] - 2s 84ms/step - loss: 0.1621 - accuracy: 0.9717 - val_loss: 0.6333 - val_accuracy: 0.8167\n",
            "Epoch 47/50\n",
            "19/19 [==============================] - 2s 94ms/step - loss: 0.1728 - accuracy: 0.9667 - val_loss: 0.6228 - val_accuracy: 0.7867\n",
            "Epoch 48/50\n",
            "19/19 [==============================] - 2s 83ms/step - loss: 0.1630 - accuracy: 0.9708 - val_loss: 0.5873 - val_accuracy: 0.8133\n",
            "Epoch 49/50\n",
            "19/19 [==============================] - 1s 76ms/step - loss: 0.1500 - accuracy: 0.9700 - val_loss: 0.5694 - val_accuracy: 0.7933\n",
            "Epoch 50/50\n",
            "19/19 [==============================] - 1s 73ms/step - loss: 0.1501 - accuracy: 0.9725 - val_loss: 0.5452 - val_accuracy: 0.8267\n"
          ]
        }
      ],
      "source": [
        "#with gradient clipping\n",
        "\n",
        "input_shape = (22, 2048)\n",
        "input = tf.keras.layers.Input(shape=input_shape)\n",
        "model_words_res_trans = transformer_model(input, key_dim = 64, num_transformers=2, num_heads=16, ff_dim=768, dropout=0.1, pos_encod_type='traditional')\n",
        "\n",
        "optimizer = SGD(learning_rate=0.001, momentum=0.9, clipvalue=0.5) \n",
        "model_words_res_trans.compile(optimizer=optimizer, loss='categorical_crossentropy', metrics=['accuracy'])\n",
        "\n",
        "train_y2 = to_categorical(y_train2, num_classes=10)\n",
        "test_y2 = to_categorical(y_test2, num_classes=10)\n",
        "\n",
        "# Train model with input data of shape (1500,22,2048) and validate on test set\n",
        "hist_words_res_trans = model_words_res_trans.fit(X_train2, train_y2 , epochs=50, validation_data=(X_test2, test_y2), batch_size=64)#, callbacks=[EarlyStopping(patience=3)])"
      ]
    },
    {
      "cell_type": "markdown",
      "source": [
        "###Feature vectors from VGGnet for words"
      ],
      "metadata": {
        "id": "V4vaOwUJWhia"
      }
    },
    {
      "cell_type": "code",
      "execution_count": null,
      "metadata": {
        "colab": {
          "base_uri": "https://localhost:8080/"
        },
        "id": "N8NlfoPtIgg6",
        "outputId": "535a02a3-b877-4b3b-ab7f-69ab15962f4a"
      },
      "outputs": [
        {
          "name": "stdout",
          "output_type": "stream",
          "text": [
            "(1500, 22, 512)\n"
          ]
        }
      ],
      "source": [
        "with open('/content/gdrive/MyDrive/HW_CS7150_DL/pkl/miracl_feature_maps_vgg_words.pkl', 'rb') as f:\n",
        "    data = pickle.load(f)\n",
        "\n",
        "X = data['x']\n",
        "y = data['y']-1\n",
        "\n",
        "\n",
        "max_seq_len = max(len(seq) for seq in X)\n",
        "X_padded = pad_sequences(X, maxlen=max_seq_len, padding='pre')\n",
        "print(X_padded.shape)\n"
      ]
    },
    {
      "cell_type": "code",
      "execution_count": null,
      "metadata": {
        "colab": {
          "base_uri": "https://localhost:8080/"
        },
        "id": "qyLz2w9nN3vT",
        "outputId": "00330183-4079-44a5-af35-15d8f33aaf3a"
      },
      "outputs": [
        {
          "name": "stdout",
          "output_type": "stream",
          "text": [
            "Training data shape: (1200, 22, 512)\n",
            "Testing data shape: (300, 22, 512)\n",
            "Training label shape: (1200,)\n",
            "Testing label shape: (300,)\n"
          ]
        }
      ],
      "source": [
        "X_train2, X_test2, y_train2, y_test2 = train_test_split(X_padded, np.array(y), test_size=0.2, random_state=42)\n",
        "\n",
        "print(\"Training data shape:\", X_train2.shape)\n",
        "print(\"Testing data shape:\", X_test2.shape)\n",
        "print(\"Training label shape:\", y_train2.shape)\n",
        "print(\"Testing label shape:\", y_test2.shape)"
      ]
    },
    {
      "cell_type": "markdown",
      "source": [
        "###Vggnet + LSTM for words"
      ],
      "metadata": {
        "id": "xr3-DRAtYuN3"
      }
    },
    {
      "cell_type": "code",
      "execution_count": null,
      "metadata": {
        "colab": {
          "base_uri": "https://localhost:8080/"
        },
        "id": "xBmIlNQHN3rx",
        "outputId": "d747a9aa-6bb7-4530-b3ce-1a927ea372e4"
      },
      "outputs": [
        {
          "name": "stdout",
          "output_type": "stream",
          "text": [
            "Epoch 1/50\n",
            "10/10 [==============================] - 3s 63ms/step - loss: 2.3098 - accuracy: 0.1392 - val_loss: 2.2111 - val_accuracy: 0.1933\n",
            "Epoch 2/50\n",
            "10/10 [==============================] - 0s 16ms/step - loss: 1.9837 - accuracy: 0.3767 - val_loss: 2.0412 - val_accuracy: 0.3067\n",
            "Epoch 3/50\n",
            "10/10 [==============================] - 0s 14ms/step - loss: 1.7511 - accuracy: 0.4925 - val_loss: 1.8952 - val_accuracy: 0.4033\n",
            "Epoch 4/50\n",
            "10/10 [==============================] - 0s 24ms/step - loss: 1.5076 - accuracy: 0.6225 - val_loss: 1.7092 - val_accuracy: 0.4400\n",
            "Epoch 5/50\n",
            "10/10 [==============================] - 0s 30ms/step - loss: 1.2961 - accuracy: 0.6942 - val_loss: 1.5602 - val_accuracy: 0.4867\n",
            "Epoch 6/50\n",
            "10/10 [==============================] - 0s 28ms/step - loss: 1.0770 - accuracy: 0.7750 - val_loss: 1.3831 - val_accuracy: 0.5733\n",
            "Epoch 7/50\n",
            "10/10 [==============================] - 0s 26ms/step - loss: 0.8793 - accuracy: 0.8408 - val_loss: 1.2632 - val_accuracy: 0.5933\n",
            "Epoch 8/50\n",
            "10/10 [==============================] - 0s 16ms/step - loss: 0.7304 - accuracy: 0.8792 - val_loss: 1.1410 - val_accuracy: 0.6167\n",
            "Epoch 9/50\n",
            "10/10 [==============================] - 0s 14ms/step - loss: 0.6080 - accuracy: 0.9050 - val_loss: 1.0184 - val_accuracy: 0.6767\n",
            "Epoch 10/50\n",
            "10/10 [==============================] - 0s 15ms/step - loss: 0.4759 - accuracy: 0.9550 - val_loss: 0.9174 - val_accuracy: 0.7433\n",
            "Epoch 11/50\n",
            "10/10 [==============================] - 0s 15ms/step - loss: 0.3872 - accuracy: 0.9642 - val_loss: 0.8328 - val_accuracy: 0.7567\n",
            "Epoch 12/50\n",
            "10/10 [==============================] - 0s 15ms/step - loss: 0.3092 - accuracy: 0.9783 - val_loss: 0.7442 - val_accuracy: 0.8100\n",
            "Epoch 13/50\n",
            "10/10 [==============================] - 0s 15ms/step - loss: 0.2413 - accuracy: 0.9933 - val_loss: 0.6972 - val_accuracy: 0.8167\n",
            "Epoch 14/50\n",
            "10/10 [==============================] - 0s 21ms/step - loss: 0.1945 - accuracy: 0.9925 - val_loss: 0.6429 - val_accuracy: 0.8467\n",
            "Epoch 15/50\n",
            "10/10 [==============================] - 0s 14ms/step - loss: 0.1640 - accuracy: 0.9933 - val_loss: 0.5841 - val_accuracy: 0.8667\n",
            "Epoch 16/50\n",
            "10/10 [==============================] - 0s 14ms/step - loss: 0.1283 - accuracy: 1.0000 - val_loss: 0.5540 - val_accuracy: 0.8667\n",
            "Epoch 17/50\n",
            "10/10 [==============================] - 0s 14ms/step - loss: 0.1074 - accuracy: 0.9992 - val_loss: 0.5263 - val_accuracy: 0.8800\n",
            "Epoch 18/50\n",
            "10/10 [==============================] - 0s 15ms/step - loss: 0.0864 - accuracy: 1.0000 - val_loss: 0.4771 - val_accuracy: 0.8833\n",
            "Epoch 19/50\n",
            "10/10 [==============================] - 0s 14ms/step - loss: 0.0707 - accuracy: 1.0000 - val_loss: 0.4658 - val_accuracy: 0.8833\n",
            "Epoch 20/50\n",
            "10/10 [==============================] - 0s 15ms/step - loss: 0.0580 - accuracy: 1.0000 - val_loss: 0.4367 - val_accuracy: 0.8967\n",
            "Epoch 21/50\n",
            "10/10 [==============================] - 0s 15ms/step - loss: 0.0484 - accuracy: 1.0000 - val_loss: 0.4252 - val_accuracy: 0.8900\n",
            "Epoch 22/50\n",
            "10/10 [==============================] - 0s 14ms/step - loss: 0.0425 - accuracy: 1.0000 - val_loss: 0.4141 - val_accuracy: 0.8967\n",
            "Epoch 23/50\n",
            "10/10 [==============================] - 0s 15ms/step - loss: 0.0364 - accuracy: 1.0000 - val_loss: 0.4041 - val_accuracy: 0.9067\n",
            "Epoch 24/50\n",
            "10/10 [==============================] - 0s 15ms/step - loss: 0.0317 - accuracy: 1.0000 - val_loss: 0.3881 - val_accuracy: 0.9033\n",
            "Epoch 25/50\n",
            "10/10 [==============================] - 0s 15ms/step - loss: 0.0281 - accuracy: 1.0000 - val_loss: 0.3811 - val_accuracy: 0.8967\n",
            "Epoch 26/50\n",
            "10/10 [==============================] - 0s 15ms/step - loss: 0.0254 - accuracy: 1.0000 - val_loss: 0.3864 - val_accuracy: 0.8900\n",
            "Epoch 27/50\n",
            "10/10 [==============================] - 0s 14ms/step - loss: 0.0228 - accuracy: 1.0000 - val_loss: 0.3667 - val_accuracy: 0.9033\n",
            "Epoch 28/50\n",
            "10/10 [==============================] - 0s 15ms/step - loss: 0.0208 - accuracy: 1.0000 - val_loss: 0.3596 - val_accuracy: 0.8900\n",
            "Epoch 29/50\n",
            "10/10 [==============================] - 0s 26ms/step - loss: 0.0187 - accuracy: 1.0000 - val_loss: 0.3610 - val_accuracy: 0.8933\n",
            "Epoch 30/50\n",
            "10/10 [==============================] - 0s 24ms/step - loss: 0.0176 - accuracy: 1.0000 - val_loss: 0.3530 - val_accuracy: 0.9000\n",
            "Epoch 31/50\n",
            "10/10 [==============================] - 0s 22ms/step - loss: 0.0161 - accuracy: 1.0000 - val_loss: 0.3467 - val_accuracy: 0.8933\n",
            "Epoch 32/50\n",
            "10/10 [==============================] - 0s 23ms/step - loss: 0.0147 - accuracy: 1.0000 - val_loss: 0.3452 - val_accuracy: 0.8933\n",
            "Epoch 33/50\n",
            "10/10 [==============================] - 0s 22ms/step - loss: 0.0137 - accuracy: 1.0000 - val_loss: 0.3392 - val_accuracy: 0.8933\n",
            "Epoch 34/50\n",
            "10/10 [==============================] - 0s 16ms/step - loss: 0.0127 - accuracy: 1.0000 - val_loss: 0.3411 - val_accuracy: 0.8933\n",
            "Epoch 35/50\n",
            "10/10 [==============================] - 0s 18ms/step - loss: 0.0119 - accuracy: 1.0000 - val_loss: 0.3370 - val_accuracy: 0.8967\n",
            "Epoch 36/50\n",
            "10/10 [==============================] - 0s 16ms/step - loss: 0.0111 - accuracy: 1.0000 - val_loss: 0.3316 - val_accuracy: 0.9000\n",
            "Epoch 37/50\n",
            "10/10 [==============================] - 0s 22ms/step - loss: 0.0103 - accuracy: 1.0000 - val_loss: 0.3280 - val_accuracy: 0.9067\n",
            "Epoch 38/50\n",
            "10/10 [==============================] - 0s 25ms/step - loss: 0.0098 - accuracy: 1.0000 - val_loss: 0.3241 - val_accuracy: 0.8933\n",
            "Epoch 39/50\n",
            "10/10 [==============================] - 0s 23ms/step - loss: 0.0091 - accuracy: 1.0000 - val_loss: 0.3244 - val_accuracy: 0.9033\n",
            "Epoch 40/50\n",
            "10/10 [==============================] - 0s 18ms/step - loss: 0.0086 - accuracy: 1.0000 - val_loss: 0.3157 - val_accuracy: 0.9033\n",
            "Epoch 41/50\n",
            "10/10 [==============================] - 0s 22ms/step - loss: 0.0081 - accuracy: 1.0000 - val_loss: 0.3188 - val_accuracy: 0.8967\n",
            "Epoch 42/50\n",
            "10/10 [==============================] - 0s 18ms/step - loss: 0.0077 - accuracy: 1.0000 - val_loss: 0.3162 - val_accuracy: 0.9000\n",
            "Epoch 43/50\n",
            "10/10 [==============================] - 0s 22ms/step - loss: 0.0072 - accuracy: 1.0000 - val_loss: 0.3129 - val_accuracy: 0.9067\n",
            "Epoch 44/50\n",
            "10/10 [==============================] - 0s 21ms/step - loss: 0.0068 - accuracy: 1.0000 - val_loss: 0.3094 - val_accuracy: 0.9100\n",
            "Epoch 45/50\n",
            "10/10 [==============================] - 0s 24ms/step - loss: 0.0065 - accuracy: 1.0000 - val_loss: 0.3104 - val_accuracy: 0.9067\n",
            "Epoch 46/50\n",
            "10/10 [==============================] - 0s 20ms/step - loss: 0.0062 - accuracy: 1.0000 - val_loss: 0.3074 - val_accuracy: 0.9033\n",
            "Epoch 47/50\n",
            "10/10 [==============================] - 0s 19ms/step - loss: 0.0059 - accuracy: 1.0000 - val_loss: 0.3037 - val_accuracy: 0.9033\n",
            "Epoch 48/50\n",
            "10/10 [==============================] - 0s 24ms/step - loss: 0.0056 - accuracy: 1.0000 - val_loss: 0.3032 - val_accuracy: 0.9100\n",
            "Epoch 49/50\n",
            "10/10 [==============================] - 0s 23ms/step - loss: 0.0053 - accuracy: 1.0000 - val_loss: 0.3011 - val_accuracy: 0.9033\n",
            "Epoch 50/50\n",
            "10/10 [==============================] - 0s 19ms/step - loss: 0.0051 - accuracy: 1.0000 - val_loss: 0.3040 - val_accuracy: 0.9033\n"
          ]
        }
      ],
      "source": [
        "# Define model architecture\n",
        "model_vgg_words = Sequential()\n",
        "model_vgg_words.add(LSTM(units=128, input_shape=(22,512)))\n",
        "model_vgg_words.add(Dense(units=10, activation='softmax'))\n",
        "\n",
        "# Compile model\n",
        "model_vgg_words.compile(optimizer='adam', loss='categorical_crossentropy', metrics=['accuracy'])\n",
        "\n",
        "# Split data into train and test sets\n",
        "\n",
        "train_y2 = to_categorical(y_train2, num_classes=10)\n",
        "test_y2 = to_categorical(y_test2, num_classes=10)\n",
        "\n",
        "# Train model with input data of shape (1500, 22, 512) and validate on test set\n",
        "history_vgg_words = model_vgg_words.fit(X_train2, train_y2 , epochs=50, validation_data=(X_test2, test_y2), batch_size=128)\n",
        "\n",
        "# Predict using the trained model\n",
        "#predictions = model.predict(X_test2)\n",
        "#print(predictions.shape)"
      ]
    },
    {
      "cell_type": "markdown",
      "source": [
        "###VGGnet + Attention LSTM for words"
      ],
      "metadata": {
        "id": "eulS-QqgYg5S"
      }
    },
    {
      "cell_type": "code",
      "execution_count": null,
      "metadata": {
        "colab": {
          "base_uri": "https://localhost:8080/"
        },
        "id": "2YL7KZ8JN3o0",
        "outputId": "9e841cab-f4cf-4ef0-b585-5390cf2e6f72"
      },
      "outputs": [
        {
          "name": "stdout",
          "output_type": "stream",
          "text": [
            "Epoch 1/50\n",
            "10/10 [==============================] - 4s 64ms/step - loss: 2.2038 - accuracy: 0.2100 - val_loss: 1.9661 - val_accuracy: 0.3500\n",
            "Epoch 2/50\n",
            "10/10 [==============================] - 0s 16ms/step - loss: 1.6827 - accuracy: 0.4958 - val_loss: 1.5874 - val_accuracy: 0.4967\n",
            "Epoch 3/50\n",
            "10/10 [==============================] - 0s 15ms/step - loss: 1.2304 - accuracy: 0.6600 - val_loss: 1.2155 - val_accuracy: 0.5800\n",
            "Epoch 4/50\n",
            "10/10 [==============================] - 0s 17ms/step - loss: 0.8484 - accuracy: 0.8075 - val_loss: 0.9409 - val_accuracy: 0.7467\n",
            "Epoch 5/50\n",
            "10/10 [==============================] - 0s 15ms/step - loss: 0.5595 - accuracy: 0.9125 - val_loss: 0.7237 - val_accuracy: 0.8033\n",
            "Epoch 6/50\n",
            "10/10 [==============================] - 0s 15ms/step - loss: 0.3668 - accuracy: 0.9467 - val_loss: 0.6616 - val_accuracy: 0.7600\n",
            "Epoch 7/50\n",
            "10/10 [==============================] - 0s 15ms/step - loss: 0.2366 - accuracy: 0.9675 - val_loss: 0.5291 - val_accuracy: 0.8200\n",
            "Epoch 8/50\n",
            "10/10 [==============================] - 0s 15ms/step - loss: 0.1575 - accuracy: 0.9817 - val_loss: 0.4924 - val_accuracy: 0.8133\n",
            "Epoch 9/50\n",
            "10/10 [==============================] - 0s 15ms/step - loss: 0.1089 - accuracy: 0.9908 - val_loss: 0.4889 - val_accuracy: 0.8333\n",
            "Epoch 10/50\n",
            "10/10 [==============================] - 0s 15ms/step - loss: 0.0817 - accuracy: 0.9908 - val_loss: 0.3955 - val_accuracy: 0.8800\n",
            "Epoch 11/50\n",
            "10/10 [==============================] - 0s 15ms/step - loss: 0.0529 - accuracy: 0.9992 - val_loss: 0.4117 - val_accuracy: 0.8600\n",
            "Epoch 12/50\n",
            "10/10 [==============================] - 0s 16ms/step - loss: 0.0380 - accuracy: 0.9992 - val_loss: 0.3854 - val_accuracy: 0.8633\n",
            "Epoch 13/50\n",
            "10/10 [==============================] - 0s 16ms/step - loss: 0.0245 - accuracy: 1.0000 - val_loss: 0.3599 - val_accuracy: 0.8733\n",
            "Epoch 14/50\n",
            "10/10 [==============================] - 0s 16ms/step - loss: 0.0193 - accuracy: 1.0000 - val_loss: 0.3378 - val_accuracy: 0.8867\n",
            "Epoch 15/50\n",
            "10/10 [==============================] - 0s 25ms/step - loss: 0.0139 - accuracy: 1.0000 - val_loss: 0.3705 - val_accuracy: 0.8567\n",
            "Epoch 16/50\n",
            "10/10 [==============================] - 0s 28ms/step - loss: 0.0107 - accuracy: 1.0000 - val_loss: 0.3327 - val_accuracy: 0.8767\n",
            "Epoch 17/50\n",
            "10/10 [==============================] - 0s 25ms/step - loss: 0.0084 - accuracy: 1.0000 - val_loss: 0.3461 - val_accuracy: 0.8700\n",
            "Epoch 18/50\n",
            "10/10 [==============================] - 0s 26ms/step - loss: 0.0069 - accuracy: 1.0000 - val_loss: 0.3265 - val_accuracy: 0.8700\n",
            "Epoch 19/50\n",
            "10/10 [==============================] - 0s 24ms/step - loss: 0.0060 - accuracy: 1.0000 - val_loss: 0.3334 - val_accuracy: 0.8800\n",
            "Epoch 20/50\n",
            "10/10 [==============================] - 0s 26ms/step - loss: 0.0053 - accuracy: 1.0000 - val_loss: 0.3251 - val_accuracy: 0.8733\n",
            "Epoch 21/50\n",
            "10/10 [==============================] - 0s 25ms/step - loss: 0.0048 - accuracy: 1.0000 - val_loss: 0.3260 - val_accuracy: 0.8800\n",
            "Epoch 22/50\n",
            "10/10 [==============================] - 0s 25ms/step - loss: 0.0044 - accuracy: 1.0000 - val_loss: 0.3309 - val_accuracy: 0.8733\n",
            "Epoch 23/50\n",
            "10/10 [==============================] - 0s 19ms/step - loss: 0.0040 - accuracy: 1.0000 - val_loss: 0.3260 - val_accuracy: 0.8667\n",
            "Epoch 24/50\n",
            "10/10 [==============================] - 0s 16ms/step - loss: 0.0037 - accuracy: 1.0000 - val_loss: 0.3198 - val_accuracy: 0.8900\n",
            "Epoch 25/50\n",
            "10/10 [==============================] - 0s 16ms/step - loss: 0.0034 - accuracy: 1.0000 - val_loss: 0.3223 - val_accuracy: 0.8733\n",
            "Epoch 26/50\n",
            "10/10 [==============================] - 0s 16ms/step - loss: 0.0031 - accuracy: 1.0000 - val_loss: 0.3199 - val_accuracy: 0.8800\n",
            "Epoch 27/50\n",
            "10/10 [==============================] - 0s 16ms/step - loss: 0.0029 - accuracy: 1.0000 - val_loss: 0.3185 - val_accuracy: 0.8900\n",
            "Epoch 28/50\n",
            "10/10 [==============================] - 0s 18ms/step - loss: 0.0027 - accuracy: 1.0000 - val_loss: 0.3158 - val_accuracy: 0.8867\n",
            "Epoch 29/50\n",
            "10/10 [==============================] - 0s 15ms/step - loss: 0.0026 - accuracy: 1.0000 - val_loss: 0.3187 - val_accuracy: 0.8833\n",
            "Epoch 30/50\n",
            "10/10 [==============================] - 0s 15ms/step - loss: 0.0024 - accuracy: 1.0000 - val_loss: 0.3177 - val_accuracy: 0.8900\n",
            "Epoch 31/50\n",
            "10/10 [==============================] - 0s 15ms/step - loss: 0.0022 - accuracy: 1.0000 - val_loss: 0.3167 - val_accuracy: 0.8800\n",
            "Epoch 32/50\n",
            "10/10 [==============================] - 0s 15ms/step - loss: 0.0021 - accuracy: 1.0000 - val_loss: 0.3184 - val_accuracy: 0.8867\n",
            "Epoch 33/50\n",
            "10/10 [==============================] - 0s 15ms/step - loss: 0.0020 - accuracy: 1.0000 - val_loss: 0.3164 - val_accuracy: 0.8833\n",
            "Epoch 34/50\n",
            "10/10 [==============================] - 0s 20ms/step - loss: 0.0019 - accuracy: 1.0000 - val_loss: 0.3224 - val_accuracy: 0.8900\n",
            "Epoch 35/50\n",
            "10/10 [==============================] - 0s 15ms/step - loss: 0.0018 - accuracy: 1.0000 - val_loss: 0.3184 - val_accuracy: 0.8867\n",
            "Epoch 36/50\n",
            "10/10 [==============================] - 0s 15ms/step - loss: 0.0017 - accuracy: 1.0000 - val_loss: 0.3139 - val_accuracy: 0.8867\n",
            "Epoch 37/50\n",
            "10/10 [==============================] - 0s 15ms/step - loss: 0.0016 - accuracy: 1.0000 - val_loss: 0.3202 - val_accuracy: 0.8933\n",
            "Epoch 38/50\n",
            "10/10 [==============================] - 0s 18ms/step - loss: 0.0015 - accuracy: 1.0000 - val_loss: 0.3147 - val_accuracy: 0.8833\n",
            "Epoch 39/50\n",
            "10/10 [==============================] - 0s 21ms/step - loss: 0.0015 - accuracy: 1.0000 - val_loss: 0.3183 - val_accuracy: 0.8900\n",
            "Epoch 40/50\n",
            "10/10 [==============================] - 0s 19ms/step - loss: 0.0014 - accuracy: 1.0000 - val_loss: 0.3138 - val_accuracy: 0.8800\n",
            "Epoch 41/50\n",
            "10/10 [==============================] - 0s 21ms/step - loss: 0.0013 - accuracy: 1.0000 - val_loss: 0.3203 - val_accuracy: 0.8867\n",
            "Epoch 42/50\n",
            "10/10 [==============================] - 0s 25ms/step - loss: 0.0013 - accuracy: 1.0000 - val_loss: 0.3202 - val_accuracy: 0.8867\n",
            "Epoch 43/50\n",
            "10/10 [==============================] - 0s 24ms/step - loss: 0.0012 - accuracy: 1.0000 - val_loss: 0.3149 - val_accuracy: 0.8867\n",
            "Epoch 44/50\n",
            "10/10 [==============================] - 0s 19ms/step - loss: 0.0011 - accuracy: 1.0000 - val_loss: 0.3153 - val_accuracy: 0.8867\n",
            "Epoch 45/50\n",
            "10/10 [==============================] - 0s 24ms/step - loss: 0.0011 - accuracy: 1.0000 - val_loss: 0.3163 - val_accuracy: 0.8867\n",
            "Epoch 46/50\n",
            "10/10 [==============================] - 0s 20ms/step - loss: 0.0011 - accuracy: 1.0000 - val_loss: 0.3147 - val_accuracy: 0.8867\n",
            "Epoch 47/50\n",
            "10/10 [==============================] - 0s 21ms/step - loss: 0.0010 - accuracy: 1.0000 - val_loss: 0.3168 - val_accuracy: 0.8867\n",
            "Epoch 48/50\n",
            "10/10 [==============================] - 0s 22ms/step - loss: 9.7350e-04 - accuracy: 1.0000 - val_loss: 0.3156 - val_accuracy: 0.8867\n",
            "Epoch 49/50\n",
            "10/10 [==============================] - 0s 17ms/step - loss: 9.3226e-04 - accuracy: 1.0000 - val_loss: 0.3170 - val_accuracy: 0.8833\n",
            "Epoch 50/50\n",
            "10/10 [==============================] - 0s 20ms/step - loss: 8.9268e-04 - accuracy: 1.0000 - val_loss: 0.3149 - val_accuracy: 0.8833\n"
          ]
        }
      ],
      "source": [
        "# Set the input shape\n",
        "input_shape = (22, 512)\n",
        "\n",
        "# Define the attention-based LSTM model\n",
        "inputs = Input(shape=input_shape)\n",
        "lstm_out = LSTM(128, return_sequences=True)(inputs)\n",
        "attention_out = Attention()([lstm_out, lstm_out])\n",
        "flatten_out = Flatten()(attention_out)\n",
        "dense_out = Dense(10, activation='softmax')(flatten_out)\n",
        "model_words_vgg_att = Model(inputs=inputs, outputs=dense_out)\n",
        "\n",
        "# Compile model\n",
        "model_words_vgg_att.compile(optimizer='adam', loss='categorical_crossentropy', metrics=['accuracy'])\n",
        "\n",
        "# Split data into train and test sets\n",
        "train_y2 = to_categorical(y_train2, num_classes=10)\n",
        "test_y2 = to_categorical(y_test2, num_classes=10)\n",
        "\n",
        "# Train model with input data of shape (1500, 22, 512) and validate on test set\n",
        "hist_words_vgg_att = model_words_vgg_att.fit(X_train2, train_y2 , epochs=50, validation_data=(X_test2, test_y2), batch_size=128)\n",
        "\n",
        "# Predict using the trained model\n",
        "#predictions_resnet_attention = model_words_res_att.predict(X_test2)\n",
        "#print(predictions_resnet_attention.shape)"
      ]
    },
    {
      "cell_type": "markdown",
      "source": [
        "###Video Preprocessing to add the captions"
      ],
      "metadata": {
        "id": "nAke2N1wWro0"
      }
    },
    {
      "cell_type": "code",
      "execution_count": null,
      "metadata": {
        "colab": {
          "base_uri": "https://localhost:8080/"
        },
        "id": "AS-oeROeFOh2",
        "outputId": "3f55cc54-23de-4253-9b2d-c72babe4d5b2"
      },
      "outputs": [
        {
          "name": "stdout",
          "output_type": "stream",
          "text": [
            "49 frames extracted.\n"
          ]
        }
      ],
      "source": [
        "import cv2\n",
        "import os\n",
        "\n",
        "# Open the video file\n",
        "video = cv2.VideoCapture('/content/gdrive/MyDrive/HW_CS7150_DL/Web.mp4')\n",
        "\n",
        "# Create a directory to save the frames\n",
        "if not os.path.exists('/content/gdrive/MyDrive/HW_CS7150_DL/vid_frames5'):\n",
        "    os.makedirs('/content/gdrive/MyDrive/HW_CS7150_DL/vid_frames5')\n",
        "\n",
        "# Initialize frame count and flag for reading the video\n",
        "frame_count = 0\n",
        "success = True\n",
        "\n",
        "# Loop through the frames and save them to the frames directory\n",
        "while success:\n",
        "    # Read the frame\n",
        "    success, image = video.read()\n",
        "\n",
        "    if success:\n",
        "        # Save the frame as an image\n",
        "        cv2.imwrite(f'/content/gdrive/MyDrive/HW_CS7150_DL/vid_frames5/frame_{frame_count:04d}.jpg', image)\n",
        "\n",
        "        # Increment the frame count\n",
        "        frame_count += 1\n",
        "\n",
        "# Release the video file and print the number of frames extracted\n",
        "video.release()\n",
        "print(f'{frame_count} frames extracted.')\n"
      ]
    },
    {
      "cell_type": "code",
      "execution_count": null,
      "metadata": {
        "colab": {
          "base_uri": "https://localhost:8080/"
        },
        "id": "uoNikFXcef7e",
        "outputId": "eaf399e5-49b8-4444-8eca-7e2d98b746da"
      },
      "outputs": [
        {
          "name": "stdout",
          "output_type": "stream",
          "text": [
            "0 1\n"
          ]
        },
        {
          "data": {
            "text/plain": [
              "22"
            ]
          },
          "execution_count": 207,
          "metadata": {},
          "output_type": "execute_result"
        }
      ],
      "source": [
        "import glob\n",
        "file_paths = glob.glob('/content/gdrive/MyDrive/HW_CS7150_DL/vid_frames5' + '/*.jpg')\n",
        "print(file_paths[1][-6], file_paths[13][-6])\n",
        "imgs = []\n",
        "for i in file_paths:\n",
        "  if int(i[-6])==0:\n",
        "    if int(i[-5])%3==0:\n",
        "      imgs.append(i)\n",
        "  elif int(i[-6:-4]) == 32 or int(i[-6:-4])==28 or int(i[-6:-4]) == 14 or int(i[-6:-4])== 23 or int(i[-6:-4])== 37:\n",
        "    imgs.append(i)\n",
        "  else:\n",
        "    if int(i[-6:-4])%3==0:\n",
        "      imgs.append(i)\n",
        "\n",
        "len(imgs)"
      ]
    },
    {
      "cell_type": "code",
      "execution_count": null,
      "metadata": {
        "colab": {
          "base_uri": "https://localhost:8080/"
        },
        "id": "zkNvvAdRFOXq",
        "outputId": "b9389822-f502-4340-8bd0-8ed031aa9619"
      },
      "outputs": [
        {
          "name": "stdout",
          "output_type": "stream",
          "text": [
            "1/1 [==============================] - 0s 88ms/step\n",
            "1/1 [==============================] - 0s 88ms/step\n",
            "1/1 [==============================] - 0s 18ms/step\n",
            "1/1 [==============================] - 0s 26ms/step\n",
            "1/1 [==============================] - 0s 19ms/step\n",
            "1/1 [==============================] - 0s 21ms/step\n",
            "1/1 [==============================] - 0s 20ms/step\n",
            "1/1 [==============================] - 0s 108ms/step\n",
            "1/1 [==============================] - 0s 132ms/step\n",
            "1/1 [==============================] - 0s 19ms/step\n",
            "1/1 [==============================] - 0s 20ms/step\n",
            "1/1 [==============================] - 0s 19ms/step\n",
            "1/1 [==============================] - 0s 21ms/step\n",
            "1/1 [==============================] - 0s 19ms/step\n",
            "1/1 [==============================] - 0s 19ms/step\n",
            "1/1 [==============================] - 0s 21ms/step\n",
            "1/1 [==============================] - 0s 20ms/step\n",
            "1/1 [==============================] - 0s 20ms/step\n",
            "1/1 [==============================] - 0s 17ms/step\n",
            "1/1 [==============================] - 0s 20ms/step\n",
            "1/1 [==============================] - 0s 20ms/step\n",
            "1/1 [==============================] - 0s 19ms/step\n",
            "1/1 [==============================] - 0s 19ms/step\n",
            "1/1 [==============================] - 0s 18ms/step\n",
            "1/1 [==============================] - 0s 19ms/step\n",
            "1/1 [==============================] - 0s 18ms/step\n",
            "1/1 [==============================] - 0s 18ms/step\n",
            "1/1 [==============================] - 0s 22ms/step\n",
            "1/1 [==============================] - 0s 22ms/step\n",
            "1/1 [==============================] - 0s 22ms/step\n",
            "1/1 [==============================] - 0s 18ms/step\n",
            "1/1 [==============================] - 0s 18ms/step\n",
            "1/1 [==============================] - 0s 20ms/step\n",
            "1/1 [==============================] - 0s 21ms/step\n",
            "1/1 [==============================] - 0s 19ms/step\n",
            "1/1 [==============================] - 0s 21ms/step\n",
            "1/1 [==============================] - 0s 20ms/step\n",
            "1/1 [==============================] - 0s 17ms/step\n",
            "1/1 [==============================] - 0s 19ms/step\n",
            "1/1 [==============================] - 0s 18ms/step\n",
            "1/1 [==============================] - 0s 20ms/step\n",
            "1/1 [==============================] - 0s 19ms/step\n",
            "1/1 [==============================] - 0s 19ms/step\n",
            "1/1 [==============================] - 0s 20ms/step\n",
            "1/1 [==============================] - 0s 19ms/step\n",
            "1/1 [==============================] - 0s 18ms/step\n",
            "1/1 [==============================] - 0s 18ms/step\n",
            "1/1 [==============================] - 0s 18ms/step\n",
            "1/1 [==============================] - 0s 17ms/step\n",
            "1/1 [==============================] - 0s 18ms/step\n",
            "1/1 [==============================] - 0s 19ms/step\n",
            "1/1 [==============================] - 0s 19ms/step\n",
            "1/1 [==============================] - 0s 21ms/step\n",
            "1/1 [==============================] - 0s 18ms/step\n",
            "1/1 [==============================] - 0s 20ms/step\n",
            "1/1 [==============================] - 0s 17ms/step\n",
            "1/1 [==============================] - 0s 17ms/step\n",
            "1/1 [==============================] - 0s 17ms/step\n",
            "1/1 [==============================] - 0s 21ms/step\n",
            "1/1 [==============================] - 0s 19ms/step\n",
            "1/1 [==============================] - 0s 19ms/step\n",
            "1/1 [==============================] - 0s 20ms/step\n",
            "1/1 [==============================] - 0s 20ms/step\n",
            "1/1 [==============================] - 0s 20ms/step\n",
            "1/1 [==============================] - 0s 24ms/step\n",
            "1/1 [==============================] - 0s 17ms/step\n",
            "1/1 [==============================] - 0s 19ms/step\n",
            "1/1 [==============================] - 0s 18ms/step\n",
            "1/1 [==============================] - 0s 18ms/step\n",
            "1/1 [==============================] - 0s 21ms/step\n",
            "1/1 [==============================] - 0s 19ms/step\n",
            "1/1 [==============================] - 0s 22ms/step\n",
            "1/1 [==============================] - 0s 24ms/step\n",
            "1/1 [==============================] - 0s 20ms/step\n",
            "1/1 [==============================] - 0s 20ms/step\n",
            "1/1 [==============================] - 0s 18ms/step\n",
            "1/1 [==============================] - 0s 20ms/step\n",
            "1/1 [==============================] - 0s 21ms/step\n",
            "1/1 [==============================] - 0s 18ms/step\n",
            "1/1 [==============================] - 0s 24ms/step\n",
            "1/1 [==============================] - 0s 19ms/step\n",
            "1/1 [==============================] - 0s 18ms/step\n",
            "1/1 [==============================] - 0s 20ms/step\n",
            "1/1 [==============================] - 0s 20ms/step\n",
            "1/1 [==============================] - 0s 21ms/step\n",
            "1/1 [==============================] - 0s 21ms/step\n",
            "1/1 [==============================] - 0s 19ms/step\n",
            "1/1 [==============================] - 0s 19ms/step\n",
            "1/1 [==============================] - 0s 20ms/step\n",
            "1/1 [==============================] - 0s 22ms/step\n",
            "1/1 [==============================] - 0s 21ms/step\n",
            "1/1 [==============================] - 0s 17ms/step\n",
            "1/1 [==============================] - 0s 20ms/step\n",
            "1/1 [==============================] - 0s 33ms/step\n",
            "1/1 [==============================] - 0s 29ms/step\n",
            "1/1 [==============================] - 0s 38ms/step\n",
            "1/1 [==============================] - 0s 28ms/step\n",
            "1/1 [==============================] - 0s 35ms/step\n",
            "1/1 [==============================] - 0s 28ms/step\n",
            "1/1 [==============================] - 0s 33ms/step\n",
            "1/1 [==============================] - 0s 31ms/step\n",
            "1/1 [==============================] - 0s 39ms/step\n",
            "1/1 [==============================] - 0s 25ms/step\n",
            "1/1 [==============================] - 0s 26ms/step\n",
            "1/1 [==============================] - 0s 28ms/step\n",
            "1/1 [==============================] - 0s 28ms/step\n",
            "1/1 [==============================] - 0s 27ms/step\n",
            "1/1 [==============================] - 0s 28ms/step\n",
            "1/1 [==============================] - 0s 26ms/step\n",
            "1/1 [==============================] - 0s 26ms/step\n",
            "1/1 [==============================] - 0s 29ms/step\n",
            "1/1 [==============================] - 0s 32ms/step\n",
            "1/1 [==============================] - 0s 31ms/step\n",
            "1/1 [==============================] - 0s 29ms/step\n",
            "1/1 [==============================] - 0s 28ms/step\n",
            "1/1 [==============================] - 0s 30ms/step\n",
            "1/1 [==============================] - 0s 34ms/step\n",
            "1/1 [==============================] - 0s 37ms/step\n",
            "1/1 [==============================] - 0s 27ms/step\n",
            "1/1 [==============================] - 0s 27ms/step\n",
            "1/1 [==============================] - 0s 29ms/step\n",
            "1/1 [==============================] - 0s 35ms/step\n",
            "1/1 [==============================] - 0s 30ms/step\n",
            "1/1 [==============================] - 0s 33ms/step\n",
            "1/1 [==============================] - 0s 34ms/step\n",
            "1/1 [==============================] - 0s 30ms/step\n",
            "1/1 [==============================] - 0s 29ms/step\n",
            "1/1 [==============================] - 0s 32ms/step\n",
            "1/1 [==============================] - 0s 34ms/step\n",
            "1/1 [==============================] - 0s 31ms/step\n",
            "1/1 [==============================] - 0s 28ms/step\n",
            "1/1 [==============================] - 0s 27ms/step\n",
            "1/1 [==============================] - 0s 29ms/step\n",
            "1/1 [==============================] - 0s 27ms/step\n",
            "1/1 [==============================] - 0s 28ms/step\n",
            "1/1 [==============================] - 0s 28ms/step\n",
            "1/1 [==============================] - 0s 19ms/step\n",
            "1/1 [==============================] - 0s 18ms/step\n",
            "1/1 [==============================] - 0s 21ms/step\n",
            "1/1 [==============================] - 0s 19ms/step\n",
            "1/1 [==============================] - 0s 19ms/step\n",
            "1/1 [==============================] - 0s 20ms/step\n",
            "1/1 [==============================] - 0s 21ms/step\n",
            "1/1 [==============================] - 0s 22ms/step\n",
            "1/1 [==============================] - 0s 21ms/step\n",
            "1/1 [==============================] - 0s 19ms/step\n",
            "1/1 [==============================] - 0s 18ms/step\n",
            "1/1 [==============================] - 0s 22ms/step\n",
            "1/1 [==============================] - 0s 24ms/step\n",
            "1/1 [==============================] - 0s 21ms/step\n",
            "1/1 [==============================] - 0s 19ms/step\n",
            "1/1 [==============================] - 0s 22ms/step\n",
            "1/1 [==============================] - 0s 20ms/step\n",
            "1/1 [==============================] - 0s 20ms/step\n",
            "1/1 [==============================] - 0s 21ms/step\n",
            "1/1 [==============================] - 0s 18ms/step\n",
            "1/1 [==============================] - 0s 30ms/step\n",
            "1/1 [==============================] - 0s 21ms/step\n",
            "1/1 [==============================] - 0s 19ms/step\n",
            "1/1 [==============================] - 0s 20ms/step\n",
            "1/1 [==============================] - 0s 21ms/step\n",
            "1/1 [==============================] - 0s 20ms/step\n",
            "1/1 [==============================] - 0s 21ms/step\n",
            "1/1 [==============================] - 0s 21ms/step\n",
            "1/1 [==============================] - 0s 20ms/step\n",
            "1/1 [==============================] - 0s 21ms/step\n",
            "1/1 [==============================] - 0s 19ms/step\n",
            "1/1 [==============================] - 0s 19ms/step\n",
            "1/1 [==============================] - 0s 20ms/step\n",
            "1/1 [==============================] - 0s 21ms/step\n",
            "1/1 [==============================] - 0s 18ms/step\n",
            "1/1 [==============================] - 0s 18ms/step\n",
            "1/1 [==============================] - 0s 22ms/step\n",
            "1/1 [==============================] - 0s 20ms/step\n",
            "1/1 [==============================] - 0s 19ms/step\n",
            "1/1 [==============================] - 0s 19ms/step\n",
            "1/1 [==============================] - 0s 19ms/step\n",
            "1/1 [==============================] - 0s 21ms/step\n",
            "1/1 [==============================] - 0s 21ms/step\n",
            "1/1 [==============================] - 0s 18ms/step\n",
            "1/1 [==============================] - 0s 18ms/step\n",
            "1/1 [==============================] - 0s 17ms/step\n",
            "1/1 [==============================] - 0s 22ms/step\n",
            "1/1 [==============================] - 0s 19ms/step\n",
            "1/1 [==============================] - 0s 19ms/step\n",
            "1/1 [==============================] - 0s 21ms/step\n",
            "1/1 [==============================] - 0s 18ms/step\n",
            "1/1 [==============================] - 0s 32ms/step\n",
            "1/1 [==============================] - 0s 19ms/step\n",
            "1/1 [==============================] - 0s 20ms/step\n",
            "1/1 [==============================] - 0s 20ms/step\n",
            "1/1 [==============================] - 0s 21ms/step\n",
            "1/1 [==============================] - 0s 19ms/step\n",
            "1/1 [==============================] - 0s 18ms/step\n",
            "1/1 [==============================] - 0s 18ms/step\n",
            "1/1 [==============================] - 0s 19ms/step\n",
            "1/1 [==============================] - 0s 18ms/step\n",
            "1/1 [==============================] - 0s 20ms/step\n"
          ]
        }
      ],
      "source": [
        "# Load the MTCNN model\n",
        "detector = MTCNN(min_face_size=75)\n",
        "save_path = '/content/gdrive/MyDrive/HW_CS7150_DL/lip_test4/'\n",
        "for k in range(len(imgs)):\n",
        "   i = imgs[k]\n",
        "   # Load the image\n",
        "   img = cv2.imread(imgs[k])\n",
        "   # Detect faces in the image\n",
        "   faces = detector.detect_faces(img)\n",
        "   # Crop and save each detected face\n",
        "   cnt=0\n",
        "   for j, face in enumerate(faces):\n",
        "     x, y, w, h = face[\"box\"]\n",
        "     cropped_img = img[y:y+h, x:x+w]\n",
        "\n",
        "    # Crop the bounding box area and save it as a new image\n",
        "     box_size=65\n",
        "     x1 = x + w // 2 - 46  # calculate top-left corner x-coordinate\n",
        "     y1 = y + h // 2 + 50    #box_size // 25  # calculate top-left corner y-coordinate\n",
        "     x2 = x1 + 110            # calculate bottom-right corner x-coordinate\n",
        "     y2 = y1 + 55    #box_size//2             # calculate bottom-right corner y-coordinate\n",
        "     cropped_box = img[y1:y2, x1:x2]\n",
        "     cv2.imwrite(os.path.join(save_path, f\"cropped_{int(i[-6:-4])}.jpg\"), cropped_box)"
      ]
    },
    {
      "cell_type": "code",
      "execution_count": null,
      "metadata": {
        "id": "Mc-8DHyWV_Xs"
      },
      "outputs": [],
      "source": [
        "cropped_imgs = glob.glob('/content/gdrive/MyDrive/HW_CS7150_DL/lip_test4' + '/*.jpg')\n",
        "for filename in cropped_imgs:\n",
        "    img = Image.open(filename)\n",
        "    new_img = img.resize((58,25))\n",
        "    new_img.save(os.path.join('/content/gdrive/MyDrive/HW_CS7150_DL/resized_lip2/', filename[-13:]))"
      ]
    },
    {
      "cell_type": "code",
      "execution_count": null,
      "metadata": {
        "colab": {
          "base_uri": "https://localhost:8080/"
        },
        "id": "C3q7xYbHTBOG",
        "outputId": "99138e2b-7e18-4a06-942c-46723f08d0c5"
      },
      "outputs": [
        {
          "data": {
            "text/plain": [
              "{0: '/content/gdrive/MyDrive/HW_CS7150_DL/resized_lip2/cropped_0.jpg',\n",
              " 3: '/content/gdrive/MyDrive/HW_CS7150_DL/resized_lip2/cropped_3.jpg',\n",
              " 6: '/content/gdrive/MyDrive/HW_CS7150_DL/resized_lip2/cropped_6.jpg',\n",
              " 9: '/content/gdrive/MyDrive/HW_CS7150_DL/resized_lip2/cropped_9.jpg',\n",
              " 12: '/content/gdrive/MyDrive/HW_CS7150_DL/resized_lip2/ropped_12.jpg',\n",
              " 14: '/content/gdrive/MyDrive/HW_CS7150_DL/resized_lip2/ropped_14.jpg',\n",
              " 15: '/content/gdrive/MyDrive/HW_CS7150_DL/resized_lip2/ropped_15.jpg',\n",
              " 18: '/content/gdrive/MyDrive/HW_CS7150_DL/resized_lip2/ropped_18.jpg',\n",
              " 21: '/content/gdrive/MyDrive/HW_CS7150_DL/resized_lip2/ropped_21.jpg',\n",
              " 23: '/content/gdrive/MyDrive/HW_CS7150_DL/resized_lip2/ropped_23.jpg',\n",
              " 24: '/content/gdrive/MyDrive/HW_CS7150_DL/resized_lip2/ropped_24.jpg',\n",
              " 27: '/content/gdrive/MyDrive/HW_CS7150_DL/resized_lip2/ropped_27.jpg',\n",
              " 28: '/content/gdrive/MyDrive/HW_CS7150_DL/resized_lip2/ropped_28.jpg',\n",
              " 30: '/content/gdrive/MyDrive/HW_CS7150_DL/resized_lip2/ropped_30.jpg',\n",
              " 32: '/content/gdrive/MyDrive/HW_CS7150_DL/resized_lip2/ropped_32.jpg',\n",
              " 33: '/content/gdrive/MyDrive/HW_CS7150_DL/resized_lip2/ropped_33.jpg',\n",
              " 36: '/content/gdrive/MyDrive/HW_CS7150_DL/resized_lip2/ropped_36.jpg',\n",
              " 37: '/content/gdrive/MyDrive/HW_CS7150_DL/resized_lip2/ropped_37.jpg',\n",
              " 39: '/content/gdrive/MyDrive/HW_CS7150_DL/resized_lip2/ropped_39.jpg',\n",
              " 42: '/content/gdrive/MyDrive/HW_CS7150_DL/resized_lip2/ropped_42.jpg',\n",
              " 45: '/content/gdrive/MyDrive/HW_CS7150_DL/resized_lip2/ropped_45.jpg',\n",
              " 48: '/content/gdrive/MyDrive/HW_CS7150_DL/resized_lip2/ropped_48.jpg'}"
            ]
          },
          "execution_count": 212,
          "metadata": {},
          "output_type": "execute_result"
        }
      ],
      "source": [
        "cropped_imgs = glob.glob('/content/gdrive/MyDrive/HW_CS7150_DL/resized_lip2' + '/*.jpg')\n",
        "sor = {}\n",
        "for i in cropped_imgs:\n",
        "  if i[-6]==\"_\":\n",
        "    sor[int(i[-5])] = i\n",
        "  else:\n",
        "    sor[int(i[-6:-4])] = i\n",
        "sor"
      ]
    },
    {
      "cell_type": "code",
      "execution_count": null,
      "metadata": {
        "colab": {
          "base_uri": "https://localhost:8080/"
        },
        "id": "IBzR9vk4U5M0",
        "outputId": "13fa6beb-c664-497f-93d0-00639a63f958"
      },
      "outputs": [
        {
          "data": {
            "text/plain": [
              "(22, 25, 58, 3)"
            ]
          },
          "execution_count": 213,
          "metadata": {},
          "output_type": "execute_result"
        }
      ],
      "source": [
        "img_seq = []\n",
        "for i in range(len(sor)):\n",
        "  img_p = cv2.imread(list(sor.values())[i])\n",
        "  img_array = np.array(img_p).reshape(1,25,58,3)\n",
        "  img_seq.append(img_array)\n",
        "\n",
        "img_seq=np.array(img_seq).reshape(22,25,58,3)\n",
        "img_seq.shape"
      ]
    },
    {
      "cell_type": "code",
      "execution_count": null,
      "metadata": {
        "colab": {
          "base_uri": "https://localhost:8080/"
        },
        "id": "sBLG6WlRXqkG",
        "outputId": "57e95ab5-96e8-4251-e276-a3c75681d7ae"
      },
      "outputs": [
        {
          "name": "stdout",
          "output_type": "stream",
          "text": [
            "1/1 [==============================] - 0s 144ms/step\n",
            "(22, 1, 3, 512)\n"
          ]
        }
      ],
      "source": [
        "x_norm = img_seq/255.\n",
        "\n",
        "# Load the pre-trained VGG16 model\n",
        "vgg_model = VGG19(weights='imagenet', include_top=False)\n",
        "\n",
        "# Remove the last layer of the VGG16 model\n",
        "features_model = Model(inputs=vgg_model.input, outputs=vgg_model.get_layer('block5_conv4').output)\n",
        "\n",
        "# Reshape input data\n",
        "input_shape = (25, 58, 3)\n",
        "X = tf.keras.Input(shape=input_shape)\n",
        "Y = tf.keras.layers.Reshape((25, 58, 3))(X)\n",
        "\n",
        "# Pass input through VGG16 model\n",
        "features = features_model(Y)\n",
        "\n",
        "# Create model with inputs and outputs\n",
        "model = tf.keras.Model(inputs=X, outputs=features)\n",
        "\n",
        "# Compile model\n",
        "model.compile(optimizer='adam', loss='categorical_crossentropy')\n",
        "\n",
        "# Generate fake data for testing\n",
        "x = x_norm\n",
        "\n",
        "features_vgg16 = model.predict(x)\n",
        "print(features_vgg16.shape)\n"
      ]
    },
    {
      "cell_type": "code",
      "execution_count": 221,
      "metadata": {
        "colab": {
          "base_uri": "https://localhost:8080/"
        },
        "id": "kBZEWLNbafTK",
        "outputId": "5f15021a-a6e0-4bab-d460-a077cc7e4ac4"
      },
      "outputs": [
        {
          "output_type": "stream",
          "name": "stdout",
          "text": [
            "(1, 22, 512)\n",
            "1/1 [==============================] - 0s 28ms/step\n"
          ]
        }
      ],
      "source": [
        "xt = np.mean(features_vgg16,axis=2).reshape(1,22,512)\n",
        "print(xt.shape)\n",
        "pred = model_words_vgg_att.predict(xt)\n",
        "pred = np.argmax(pred[0])\n",
        "\n",
        "words = {1:\"Begin\", 2:\"Choose\", 3:\"Connection\", 4:\"Navigation\", 5:\"Next\",\n",
        "         6:\"Previous\", 7:\"Start\", 8:\"Stop\", 9:\"Hello\", 10:\"Web\"}\n"
      ]
    },
    {
      "cell_type": "markdown",
      "source": [
        "###Adding captions to the video from the predicted class"
      ],
      "metadata": {
        "id": "lVE5gCXNYSHe"
      }
    },
    {
      "cell_type": "code",
      "execution_count": 235,
      "metadata": {
        "id": "35fLmNJFcuUL"
      },
      "outputs": [],
      "source": [
        "import cv2\n",
        "import numpy as np\n",
        "\n",
        "# Load the video file\n",
        "cap = cv2.VideoCapture('/content/gdrive/MyDrive/HW_CS7150_DL/Web.mp4')\n",
        "\n",
        "# Define the codec and create VideoWriter object\n",
        "fourcc = cv2.VideoWriter_fourcc(*'mp4v')\n",
        "out = cv2.VideoWriter('/content/gdrive/MyDrive/HW_CS7150_DL/output_web5.mp4', fourcc, cap.get(cv2.CAP_PROP_FPS), (int(cap.get(3)), int(cap.get(4))))\n",
        "\n",
        "# Set the text caption and font\n",
        "text = words[pred+1]\n",
        "font = cv2.FONT_HERSHEY_SIMPLEX\n",
        "font_scale = 1\n",
        "font_thickness = 2\n",
        "\n",
        "# Calculate the desired time to display the text\n",
        "total_time = cap.get(cv2.CAP_PROP_FRAME_COUNT) / cap.get(cv2.CAP_PROP_FPS)\n",
        "text_time = total_time - 0.65  # Display the text 2 seconds before the end of the video\n",
        "\n",
        "# Process each frame in the video\n",
        "while True:\n",
        "    # Capture frame-by-frame\n",
        "    ret, frame = cap.read()\n",
        "    if not ret:\n",
        "        break\n",
        "\n",
        "    # Get the current time in seconds\n",
        "    current_time = cap.get(cv2.CAP_PROP_POS_MSEC) / 1000\n",
        "\n",
        "    # Write text on the frame if the time is almost at the end\n",
        "    if current_time >= text_time:\n",
        "        text_size = cv2.getTextSize(text, font, font_scale, font_thickness)[0]\n",
        "        text_x = int(frame.shape[1] / 2 - text_size[0] / 2)\n",
        "        text_y = frame.shape[0] - text_size[1] - 10\n",
        "        cv2.putText(frame, text, (text_x, text_y), font, font_scale, (255, 255, 255), font_thickness)\n",
        "\n",
        "    # Write the frame to the output video file\n",
        "    out.write(frame)\n",
        "\n",
        "    # Display the resulting frame\n",
        "    #cv2.imshow('frame', frame)\n",
        "    if cv2.waitKey(1) & 0xFF == ord('q'):\n",
        "        break\n",
        "\n",
        "# Release everything if job is finished\n",
        "cap.release()\n",
        "out.release()\n",
        "#cv2.destroyAllWindows()\n"
      ]
    },
    {
      "cell_type": "markdown",
      "source": [
        "##Hyerparameter Tuning for Tranformer"
      ],
      "metadata": {
        "id": "im00wQ4vW-0b"
      }
    },
    {
      "cell_type": "code",
      "execution_count": null,
      "metadata": {
        "colab": {
          "base_uri": "https://localhost:8080/"
        },
        "id": "nk73tvlMFVJf",
        "outputId": "db93d9a4-5388-45ef-8a71-5da888a2be23"
      },
      "outputs": [
        {
          "name": "stdout",
          "output_type": "stream",
          "text": [
            "Trial 90 Complete [00h 03m 28s]\n",
            "val_accuracy: 0.7566666603088379\n",
            "\n",
            "Best val_accuracy So Far: 0.8600000143051147\n",
            "Total elapsed time: 00h 53m 48s\n",
            "{'num_transformers': 2, 'num_heads': 16, 'ff_dim': 768, 'key_dim': 64, 'learning_rate': 0.005, 'optimizer': 'sgd', 'tuner/epochs': 50, 'tuner/initial_epoch': 17, 'tuner/bracket': 2, 'tuner/round': 2, 'tuner/trial_id': '0068'}\n"
          ]
        }
      ],
      "source": [
        "# Define the function to create the model\n",
        "def create_model(hp):\n",
        "    input_shape = (22, 2048)\n",
        "    input_layer = tf.keras.layers.Input(shape=input_shape)\n",
        "    num_transformers = hp.Int('num_transformers', min_value=2, max_value=4, step=1)\n",
        "    num_heads = hp.Int('num_heads', min_value=4, max_value=16, step=4)\n",
        "    ff_dim = hp.Int('ff_dim', min_value=256, max_value=1024, step=256)\n",
        "    key_dim = hp.Int('key_dim', min_value=32, max_value=128, step=32)\n",
        "    #dropout = hp.Float('dropout', min_value=0.1, max_value=0.1, step=0.1)\n",
        "    #pos_encod_type = hp.Choice('pos_encod_type', values=['traditional'])\n",
        "\n",
        "    model = transformer_model(input_layer, num_transformers=num_transformers, num_heads=num_heads, ff_dim=ff_dim, key_dim=key_dim, dropout=0.1, pos_encod_type='traditional')\n",
        "    #out = Dense(10, activation='softmax')(x)\n",
        "    \n",
        "    learning_rate = hp.Choice('learning_rate', values=[1e-2, 1e-3, 0.005])\n",
        "    optimizer = hp.Choice('optimizer', values=['adam', 'sgd'])\n",
        "    \n",
        "    if optimizer == 'adam':\n",
        "        opt = keras.optimizers.Adam(learning_rate=learning_rate)\n",
        "    else:\n",
        "        opt = keras.optimizers.SGD(learning_rate=learning_rate, momentum=0.9)\n",
        "    \n",
        "    #model = Model(inputs=input_layer, outputs=out)\n",
        "    model.compile(optimizer=opt, loss='categorical_crossentropy', metrics=['accuracy'])\n",
        "    return model\n",
        "\n",
        "# Define the search space for hyperparameters\n",
        "tuner = kt.Hyperband(\n",
        "    create_model,\n",
        "    objective='val_accuracy',\n",
        "    max_epochs=30,\n",
        "    factor=3\n",
        "    #directory='my_dir',\n",
        "    #project_name='my_project'\n",
        ")\n",
        "\n",
        "tuner.search_space_summary()\n",
        "# Prepare the data\n",
        "train_y2 = tf.keras.utils.to_categorical(y_train2, num_classes=10)\n",
        "test_y2 = tf.keras.utils.to_categorical(y_test2, num_classes=10)\n",
        "\n",
        "# Run the hyperparameter search\n",
        "tuner.search(X_train2, train_y2, epochs=30, validation_data=(X_test2, test_y2), batch_size=64)#, callbacks=[EarlyStopping(patience=5)])\n",
        "\n",
        "# Get the best hyperparameters\n",
        "best_hps = tuner.get_best_hyperparameters(num_trials=1)[0]\n",
        "print(best_hps.values)\n"
      ]
    },
    {
      "cell_type": "markdown",
      "source": [
        "###VGGnet + Transformer for words (traditional positional encoding)"
      ],
      "metadata": {
        "id": "txQuPfk3YIBv"
      }
    },
    {
      "cell_type": "code",
      "execution_count": null,
      "metadata": {
        "colab": {
          "base_uri": "https://localhost:8080/"
        },
        "id": "RxlLeDTzCdz3",
        "outputId": "49e6ae7e-62cb-41a6-f68b-008637d330c2"
      },
      "outputs": [
        {
          "name": "stdout",
          "output_type": "stream",
          "text": [
            "Epoch 1/50\n",
            "19/19 [==============================] - 8s 168ms/step - loss: 10.0339 - accuracy: 0.1125 - val_loss: 6.8844 - val_accuracy: 0.1967\n",
            "Epoch 2/50\n",
            "19/19 [==============================] - 2s 114ms/step - loss: 5.9279 - accuracy: 0.1958 - val_loss: 5.2575 - val_accuracy: 0.2267\n",
            "Epoch 3/50\n",
            "19/19 [==============================] - 2s 115ms/step - loss: 2.9687 - accuracy: 0.3000 - val_loss: 2.7367 - val_accuracy: 0.3467\n",
            "Epoch 4/50\n",
            "19/19 [==============================] - 2s 117ms/step - loss: 1.9587 - accuracy: 0.4358 - val_loss: 2.8316 - val_accuracy: 0.4033\n",
            "Epoch 5/50\n",
            "19/19 [==============================] - 2s 116ms/step - loss: 1.9687 - accuracy: 0.4583 - val_loss: 2.1260 - val_accuracy: 0.4000\n",
            "Epoch 6/50\n",
            "19/19 [==============================] - 2s 125ms/step - loss: 1.6363 - accuracy: 0.4958 - val_loss: 2.2189 - val_accuracy: 0.4033\n",
            "Epoch 7/50\n",
            "19/19 [==============================] - 2s 124ms/step - loss: 1.6742 - accuracy: 0.5025 - val_loss: 1.9914 - val_accuracy: 0.4333\n",
            "Epoch 8/50\n",
            "19/19 [==============================] - 2s 126ms/step - loss: 1.2335 - accuracy: 0.6075 - val_loss: 1.3929 - val_accuracy: 0.5233\n",
            "Epoch 9/50\n",
            "19/19 [==============================] - 2s 123ms/step - loss: 1.0989 - accuracy: 0.6592 - val_loss: 1.5494 - val_accuracy: 0.5300\n",
            "Epoch 10/50\n",
            "19/19 [==============================] - 2s 117ms/step - loss: 0.9963 - accuracy: 0.6650 - val_loss: 1.4076 - val_accuracy: 0.5367\n",
            "Epoch 11/50\n",
            "19/19 [==============================] - 2s 124ms/step - loss: 0.8697 - accuracy: 0.7050 - val_loss: 1.1822 - val_accuracy: 0.5867\n",
            "Epoch 12/50\n",
            "19/19 [==============================] - 2s 125ms/step - loss: 0.8430 - accuracy: 0.7133 - val_loss: 1.1431 - val_accuracy: 0.5967\n",
            "Epoch 13/50\n",
            "19/19 [==============================] - 2s 127ms/step - loss: 0.7746 - accuracy: 0.7425 - val_loss: 1.2734 - val_accuracy: 0.6300\n",
            "Epoch 14/50\n",
            "19/19 [==============================] - 2s 118ms/step - loss: 0.6678 - accuracy: 0.7667 - val_loss: 1.0606 - val_accuracy: 0.6300\n",
            "Epoch 15/50\n",
            "19/19 [==============================] - 2s 117ms/step - loss: 0.6128 - accuracy: 0.8008 - val_loss: 1.1208 - val_accuracy: 0.6167\n",
            "Epoch 16/50\n",
            "19/19 [==============================] - 2s 117ms/step - loss: 0.5819 - accuracy: 0.8058 - val_loss: 0.9944 - val_accuracy: 0.6600\n",
            "Epoch 17/50\n",
            "19/19 [==============================] - 2s 124ms/step - loss: 0.5876 - accuracy: 0.8075 - val_loss: 1.1889 - val_accuracy: 0.6200\n",
            "Epoch 18/50\n",
            "19/19 [==============================] - 2s 125ms/step - loss: 0.6165 - accuracy: 0.7892 - val_loss: 0.9753 - val_accuracy: 0.6667\n",
            "Epoch 19/50\n",
            "19/19 [==============================] - 2s 128ms/step - loss: 0.5723 - accuracy: 0.8183 - val_loss: 0.7915 - val_accuracy: 0.7200\n",
            "Epoch 20/50\n",
            "19/19 [==============================] - 2s 118ms/step - loss: 0.4401 - accuracy: 0.8650 - val_loss: 0.8587 - val_accuracy: 0.7200\n",
            "Epoch 21/50\n",
            "19/19 [==============================] - 2s 123ms/step - loss: 0.3762 - accuracy: 0.8808 - val_loss: 0.9558 - val_accuracy: 0.6967\n",
            "Epoch 22/50\n",
            "19/19 [==============================] - 2s 126ms/step - loss: 0.3182 - accuracy: 0.9150 - val_loss: 0.6982 - val_accuracy: 0.7433\n",
            "Epoch 23/50\n",
            "19/19 [==============================] - 2s 116ms/step - loss: 0.2696 - accuracy: 0.9283 - val_loss: 0.6963 - val_accuracy: 0.7500\n",
            "Epoch 24/50\n",
            "19/19 [==============================] - 2s 125ms/step - loss: 0.2724 - accuracy: 0.9308 - val_loss: 0.8429 - val_accuracy: 0.7100\n",
            "Epoch 25/50\n",
            "19/19 [==============================] - 2s 121ms/step - loss: 0.3192 - accuracy: 0.9008 - val_loss: 0.9561 - val_accuracy: 0.6933\n",
            "Epoch 26/50\n",
            "19/19 [==============================] - 2s 121ms/step - loss: 0.2657 - accuracy: 0.9200 - val_loss: 0.6615 - val_accuracy: 0.7667\n",
            "Epoch 27/50\n",
            "19/19 [==============================] - 2s 116ms/step - loss: 0.2108 - accuracy: 0.9492 - val_loss: 0.6717 - val_accuracy: 0.7700\n",
            "Epoch 28/50\n",
            "19/19 [==============================] - 2s 123ms/step - loss: 0.1853 - accuracy: 0.9650 - val_loss: 0.6694 - val_accuracy: 0.7667\n",
            "Epoch 29/50\n",
            "19/19 [==============================] - 2s 123ms/step - loss: 0.1769 - accuracy: 0.9550 - val_loss: 0.6317 - val_accuracy: 0.7700\n",
            "Epoch 30/50\n",
            "19/19 [==============================] - 2s 124ms/step - loss: 0.1641 - accuracy: 0.9658 - val_loss: 0.6371 - val_accuracy: 0.7867\n",
            "Epoch 31/50\n",
            "19/19 [==============================] - 2s 128ms/step - loss: 0.1337 - accuracy: 0.9767 - val_loss: 0.5387 - val_accuracy: 0.7967\n",
            "Epoch 32/50\n",
            "19/19 [==============================] - 2s 118ms/step - loss: 0.1290 - accuracy: 0.9775 - val_loss: 0.5287 - val_accuracy: 0.8100\n",
            "Epoch 33/50\n",
            "19/19 [==============================] - 2s 116ms/step - loss: 0.0929 - accuracy: 0.9875 - val_loss: 0.5342 - val_accuracy: 0.8067\n",
            "Epoch 34/50\n",
            "19/19 [==============================] - 2s 126ms/step - loss: 0.0883 - accuracy: 0.9892 - val_loss: 0.5052 - val_accuracy: 0.8267\n",
            "Epoch 35/50\n",
            "19/19 [==============================] - 2s 124ms/step - loss: 0.0814 - accuracy: 0.9917 - val_loss: 0.5331 - val_accuracy: 0.8267\n",
            "Epoch 36/50\n",
            "19/19 [==============================] - 2s 129ms/step - loss: 0.0802 - accuracy: 0.9933 - val_loss: 0.5131 - val_accuracy: 0.8267\n",
            "Epoch 37/50\n",
            "19/19 [==============================] - 2s 123ms/step - loss: 0.0743 - accuracy: 0.9908 - val_loss: 0.4481 - val_accuracy: 0.8267\n",
            "Epoch 38/50\n",
            "19/19 [==============================] - 2s 118ms/step - loss: 0.0574 - accuracy: 0.9967 - val_loss: 0.4250 - val_accuracy: 0.8533\n",
            "Epoch 39/50\n",
            "19/19 [==============================] - 2s 124ms/step - loss: 0.0454 - accuracy: 0.9992 - val_loss: 0.4608 - val_accuracy: 0.8067\n",
            "Epoch 40/50\n",
            "19/19 [==============================] - 2s 125ms/step - loss: 0.0405 - accuracy: 0.9992 - val_loss: 0.4575 - val_accuracy: 0.8333\n",
            "Epoch 41/50\n",
            "19/19 [==============================] - 2s 128ms/step - loss: 0.0350 - accuracy: 1.0000 - val_loss: 0.4213 - val_accuracy: 0.8467\n",
            "Epoch 42/50\n",
            "19/19 [==============================] - 3s 135ms/step - loss: 0.0327 - accuracy: 0.9992 - val_loss: 0.4149 - val_accuracy: 0.8533\n",
            "Epoch 43/50\n",
            "19/19 [==============================] - 2s 123ms/step - loss: 0.0327 - accuracy: 0.9992 - val_loss: 0.4929 - val_accuracy: 0.8400\n",
            "Epoch 44/50\n",
            "19/19 [==============================] - 2s 120ms/step - loss: 0.0306 - accuracy: 0.9983 - val_loss: 0.4221 - val_accuracy: 0.8600\n",
            "Epoch 45/50\n",
            "19/19 [==============================] - 2s 119ms/step - loss: 0.0273 - accuracy: 0.9992 - val_loss: 0.4104 - val_accuracy: 0.8300\n",
            "Epoch 46/50\n",
            "19/19 [==============================] - 2s 119ms/step - loss: 0.0281 - accuracy: 0.9983 - val_loss: 0.5281 - val_accuracy: 0.8267\n",
            "Epoch 47/50\n",
            "19/19 [==============================] - 2s 126ms/step - loss: 0.0242 - accuracy: 1.0000 - val_loss: 0.4523 - val_accuracy: 0.8467\n",
            "Epoch 48/50\n",
            "19/19 [==============================] - 2s 128ms/step - loss: 0.0262 - accuracy: 0.9983 - val_loss: 0.4577 - val_accuracy: 0.8367\n",
            "Epoch 49/50\n",
            "19/19 [==============================] - 2s 131ms/step - loss: 0.0221 - accuracy: 1.0000 - val_loss: 0.4413 - val_accuracy: 0.8533\n",
            "Epoch 50/50\n",
            "19/19 [==============================] - 2s 128ms/step - loss: 0.0191 - accuracy: 1.0000 - val_loss: 0.3953 - val_accuracy: 0.8533\n"
          ]
        },
        {
          "data": {
            "text/plain": [
              "<keras.callbacks.History at 0x7f0bbce86460>"
            ]
          },
          "execution_count": 29,
          "metadata": {},
          "output_type": "execute_result"
        }
      ],
      "source": [
        "#with gradient clipping\n",
        "\n",
        "input_shape = (22, 2048)\n",
        "input = tf.keras.layers.Input(shape=input_shape)\n",
        "model = transformer_model(input, key_dim = 128, num_transformers=2, num_heads=16, ff_dim=1024, dropout=0.1, pos_encod_type='traditional')\n",
        "\n",
        "optimizer = SGD(learning_rate=0.005, momentum=0.9, clipvalue=0.5) # Define optimizer with learning rate and momentum\n",
        "model.compile(optimizer=optimizer, loss='categorical_crossentropy', metrics=['accuracy'])\n",
        "\n",
        "train_y2 = to_categorical(y_train2, num_classes=10)\n",
        "test_y2 = to_categorical(y_test2, num_classes=10)\n",
        "\n",
        "# Train model with input data of shape (1500, 22, 2048) and validate on test set\n",
        "model.fit(X_train2, train_y2 , epochs=50, validation_data=(X_test2, test_y2), batch_size=64)#, callbacks=[EarlyStopping(patience=3)])"
      ]
    },
    {
      "cell_type": "markdown",
      "source": [
        "###VGGnet + Transformer for words (learned positional encoding)"
      ],
      "metadata": {
        "id": "bvllsnP9Xzth"
      }
    },
    {
      "cell_type": "code",
      "execution_count": null,
      "metadata": {
        "colab": {
          "base_uri": "https://localhost:8080/"
        },
        "id": "6PT9rAoSCdwx",
        "outputId": "4615d009-c354-41a3-bf8a-fab86f764b62"
      },
      "outputs": [
        {
          "name": "stdout",
          "output_type": "stream",
          "text": [
            "Epoch 1/50\n",
            "10/10 [==============================] - 7s 297ms/step - loss: 7.5421 - accuracy: 0.1225 - val_loss: 8.0902 - val_accuracy: 0.1167\n",
            "Epoch 2/50\n",
            "10/10 [==============================] - 2s 225ms/step - loss: 8.9743 - accuracy: 0.1175 - val_loss: 8.4366 - val_accuracy: 0.1900\n",
            "Epoch 3/50\n",
            "10/10 [==============================] - 2s 209ms/step - loss: 4.9841 - accuracy: 0.2083 - val_loss: 4.0875 - val_accuracy: 0.2333\n",
            "Epoch 4/50\n",
            "10/10 [==============================] - 2s 208ms/step - loss: 3.0428 - accuracy: 0.3000 - val_loss: 3.2916 - val_accuracy: 0.2600\n",
            "Epoch 5/50\n",
            "10/10 [==============================] - 2s 207ms/step - loss: 2.2129 - accuracy: 0.3775 - val_loss: 2.0259 - val_accuracy: 0.3833\n",
            "Epoch 6/50\n",
            "10/10 [==============================] - 2s 207ms/step - loss: 1.7757 - accuracy: 0.4350 - val_loss: 1.7409 - val_accuracy: 0.4300\n",
            "Epoch 7/50\n",
            "10/10 [==============================] - 2s 224ms/step - loss: 1.3874 - accuracy: 0.5125 - val_loss: 1.8427 - val_accuracy: 0.4767\n",
            "Epoch 8/50\n",
            "10/10 [==============================] - 2s 226ms/step - loss: 1.3720 - accuracy: 0.5317 - val_loss: 1.3605 - val_accuracy: 0.5233\n",
            "Epoch 9/50\n",
            "10/10 [==============================] - 2s 223ms/step - loss: 1.1619 - accuracy: 0.6108 - val_loss: 1.3054 - val_accuracy: 0.5633\n",
            "Epoch 10/50\n",
            "10/10 [==============================] - 2s 208ms/step - loss: 1.0554 - accuracy: 0.6433 - val_loss: 1.3430 - val_accuracy: 0.5233\n",
            "Epoch 11/50\n",
            "10/10 [==============================] - 2s 221ms/step - loss: 1.0349 - accuracy: 0.6250 - val_loss: 1.4316 - val_accuracy: 0.5467\n",
            "Epoch 12/50\n",
            "10/10 [==============================] - 2s 221ms/step - loss: 1.1145 - accuracy: 0.6408 - val_loss: 1.1952 - val_accuracy: 0.5933\n",
            "Epoch 13/50\n",
            "10/10 [==============================] - 2s 222ms/step - loss: 0.9126 - accuracy: 0.7033 - val_loss: 1.4460 - val_accuracy: 0.5167\n",
            "Epoch 14/50\n",
            "10/10 [==============================] - 2s 225ms/step - loss: 1.0303 - accuracy: 0.6583 - val_loss: 1.3328 - val_accuracy: 0.5767\n",
            "Epoch 15/50\n",
            "10/10 [==============================] - 2s 225ms/step - loss: 0.9504 - accuracy: 0.6883 - val_loss: 1.3253 - val_accuracy: 0.5933\n",
            "Epoch 16/50\n",
            "10/10 [==============================] - 2s 208ms/step - loss: 0.8665 - accuracy: 0.7008 - val_loss: 1.1505 - val_accuracy: 0.6333\n",
            "Epoch 17/50\n",
            "10/10 [==============================] - 2s 221ms/step - loss: 0.7148 - accuracy: 0.7708 - val_loss: 0.9502 - val_accuracy: 0.6500\n",
            "Epoch 18/50\n",
            "10/10 [==============================] - 2s 208ms/step - loss: 0.6631 - accuracy: 0.7700 - val_loss: 0.8895 - val_accuracy: 0.6700\n",
            "Epoch 19/50\n",
            "10/10 [==============================] - 2s 222ms/step - loss: 0.5605 - accuracy: 0.8292 - val_loss: 0.8563 - val_accuracy: 0.6867\n",
            "Epoch 20/50\n",
            "10/10 [==============================] - 2s 209ms/step - loss: 0.5937 - accuracy: 0.8108 - val_loss: 0.8365 - val_accuracy: 0.7033\n",
            "Epoch 21/50\n",
            "10/10 [==============================] - 2s 216ms/step - loss: 0.5679 - accuracy: 0.8342 - val_loss: 0.8574 - val_accuracy: 0.7400\n",
            "Epoch 22/50\n",
            "10/10 [==============================] - 2s 228ms/step - loss: 0.5082 - accuracy: 0.8433 - val_loss: 0.8245 - val_accuracy: 0.7100\n",
            "Epoch 23/50\n",
            "10/10 [==============================] - 2s 209ms/step - loss: 0.4729 - accuracy: 0.8625 - val_loss: 0.9689 - val_accuracy: 0.6633\n",
            "Epoch 24/50\n",
            "10/10 [==============================] - 2s 221ms/step - loss: 0.5058 - accuracy: 0.8417 - val_loss: 0.7924 - val_accuracy: 0.7300\n",
            "Epoch 25/50\n",
            "10/10 [==============================] - 2s 209ms/step - loss: 0.4557 - accuracy: 0.8667 - val_loss: 0.7858 - val_accuracy: 0.7167\n",
            "Epoch 26/50\n",
            "10/10 [==============================] - 2s 215ms/step - loss: 0.4080 - accuracy: 0.8933 - val_loss: 0.8210 - val_accuracy: 0.7333\n",
            "Epoch 27/50\n",
            "10/10 [==============================] - 2s 228ms/step - loss: 0.4045 - accuracy: 0.8933 - val_loss: 0.8087 - val_accuracy: 0.6700\n",
            "Epoch 28/50\n",
            "10/10 [==============================] - 2s 217ms/step - loss: 0.4060 - accuracy: 0.8783 - val_loss: 0.7015 - val_accuracy: 0.7367\n",
            "Epoch 29/50\n",
            "10/10 [==============================] - 2s 208ms/step - loss: 0.3772 - accuracy: 0.8992 - val_loss: 0.7332 - val_accuracy: 0.7333\n",
            "Epoch 30/50\n",
            "10/10 [==============================] - 2s 211ms/step - loss: 0.3530 - accuracy: 0.9167 - val_loss: 0.6550 - val_accuracy: 0.7667\n",
            "Epoch 31/50\n",
            "10/10 [==============================] - 2s 210ms/step - loss: 0.3705 - accuracy: 0.8917 - val_loss: 0.6823 - val_accuracy: 0.7433\n",
            "Epoch 32/50\n",
            "10/10 [==============================] - 2s 222ms/step - loss: 0.4048 - accuracy: 0.8750 - val_loss: 0.7138 - val_accuracy: 0.7467\n",
            "Epoch 33/50\n",
            "10/10 [==============================] - 2s 224ms/step - loss: 0.4269 - accuracy: 0.8792 - val_loss: 0.7511 - val_accuracy: 0.7433\n",
            "Epoch 34/50\n",
            "10/10 [==============================] - 2s 216ms/step - loss: 0.3492 - accuracy: 0.9008 - val_loss: 0.6577 - val_accuracy: 0.7667\n",
            "Epoch 35/50\n",
            "10/10 [==============================] - 2s 212ms/step - loss: 0.2612 - accuracy: 0.9458 - val_loss: 0.6318 - val_accuracy: 0.7400\n",
            "Epoch 36/50\n",
            "10/10 [==============================] - 2s 224ms/step - loss: 0.2852 - accuracy: 0.9292 - val_loss: 0.7766 - val_accuracy: 0.7267\n",
            "Epoch 37/50\n",
            "10/10 [==============================] - 2s 228ms/step - loss: 0.2667 - accuracy: 0.9392 - val_loss: 0.7048 - val_accuracy: 0.7633\n",
            "Epoch 38/50\n",
            "10/10 [==============================] - 2s 211ms/step - loss: 0.2487 - accuracy: 0.9425 - val_loss: 0.6012 - val_accuracy: 0.7800\n",
            "Epoch 39/50\n",
            "10/10 [==============================] - 2s 224ms/step - loss: 0.2117 - accuracy: 0.9642 - val_loss: 0.5882 - val_accuracy: 0.7867\n",
            "Epoch 40/50\n",
            "10/10 [==============================] - 2s 230ms/step - loss: 0.2025 - accuracy: 0.9725 - val_loss: 0.5387 - val_accuracy: 0.7900\n",
            "Epoch 41/50\n",
            "10/10 [==============================] - 2s 226ms/step - loss: 0.1765 - accuracy: 0.9758 - val_loss: 0.5422 - val_accuracy: 0.7967\n",
            "Epoch 42/50\n",
            "10/10 [==============================] - 2s 226ms/step - loss: 0.1566 - accuracy: 0.9792 - val_loss: 0.5703 - val_accuracy: 0.7833\n",
            "Epoch 43/50\n",
            "10/10 [==============================] - 2s 214ms/step - loss: 0.1596 - accuracy: 0.9825 - val_loss: 0.5182 - val_accuracy: 0.7933\n",
            "Epoch 44/50\n",
            "10/10 [==============================] - 2s 227ms/step - loss: 0.1692 - accuracy: 0.9733 - val_loss: 0.5863 - val_accuracy: 0.7867\n",
            "Epoch 45/50\n",
            "10/10 [==============================] - 2s 227ms/step - loss: 0.1492 - accuracy: 0.9808 - val_loss: 0.4912 - val_accuracy: 0.8167\n",
            "Epoch 46/50\n",
            "10/10 [==============================] - 2s 221ms/step - loss: 0.1378 - accuracy: 0.9850 - val_loss: 0.5427 - val_accuracy: 0.7867\n",
            "Epoch 47/50\n",
            "10/10 [==============================] - 2s 220ms/step - loss: 0.1456 - accuracy: 0.9792 - val_loss: 0.5258 - val_accuracy: 0.7833\n",
            "Epoch 48/50\n",
            "10/10 [==============================] - 2s 228ms/step - loss: 0.1295 - accuracy: 0.9833 - val_loss: 0.4684 - val_accuracy: 0.8367\n",
            "Epoch 49/50\n",
            "10/10 [==============================] - 2s 216ms/step - loss: 0.1268 - accuracy: 0.9867 - val_loss: 0.4848 - val_accuracy: 0.8100\n",
            "Epoch 50/50\n",
            "10/10 [==============================] - 2s 229ms/step - loss: 0.1079 - accuracy: 0.9933 - val_loss: 0.4789 - val_accuracy: 0.8133\n"
          ]
        },
        {
          "data": {
            "text/plain": [
              "<keras.callbacks.History at 0x7f0bb8c2dc40>"
            ]
          },
          "execution_count": 30,
          "metadata": {},
          "output_type": "execute_result"
        }
      ],
      "source": [
        "#with gradient clipping\n",
        "\n",
        "input_shape = (22, 2048)\n",
        "input = tf.keras.layers.Input(shape=input_shape)\n",
        "model = transformer_model(input, key_dim = 128, num_transformers=2, num_heads=16, ff_dim=1024, dropout=0.1, pos_encod_type='learned')\n",
        "\n",
        "optimizer = SGD(learning_rate=0.005, momentum=0.9, clipvalue=0.5) # Define optimizer with learning rate and momentum\n",
        "model.compile(optimizer=optimizer, loss='categorical_crossentropy', metrics=['accuracy'])\n",
        "\n",
        "train_y2 = to_categorical(y_train2, num_classes=10)\n",
        "test_y2 = to_categorical(y_test2, num_classes=10)\n",
        "\n",
        "# Train model with input data of shape (1500,22,2048) and validate on test set\n",
        "model.fit(X_train2, train_y2 , epochs=50, validation_data=(X_test2, test_y2), batch_size=128)#, callbacks=[EarlyStopping(patience=3)])"
      ]
    },
    {
      "cell_type": "code",
      "execution_count": null,
      "metadata": {
        "colab": {
          "base_uri": "https://localhost:8080/"
        },
        "id": "WbeXfXGdcZen",
        "outputId": "05370e4e-1c51-4e88-f6b8-9300aaf37530"
      },
      "outputs": [
        {
          "name": "stdout",
          "output_type": "stream",
          "text": [
            "Epoch 1/50\n",
            "10/10 [==============================] - 7s 310ms/step - loss: 18.4750 - accuracy: 0.1050 - val_loss: 17.5491 - val_accuracy: 0.1700\n",
            "Epoch 2/50\n",
            "10/10 [==============================] - 2s 204ms/step - loss: 14.6541 - accuracy: 0.1375 - val_loss: 7.9481 - val_accuracy: 0.1500\n",
            "Epoch 3/50\n",
            "10/10 [==============================] - 2s 218ms/step - loss: 6.0471 - accuracy: 0.2175 - val_loss: 4.9892 - val_accuracy: 0.1733\n",
            "Epoch 4/50\n",
            "10/10 [==============================] - 2s 203ms/step - loss: 3.2722 - accuracy: 0.2883 - val_loss: 2.7781 - val_accuracy: 0.2900\n",
            "Epoch 5/50\n",
            "10/10 [==============================] - 2s 204ms/step - loss: 2.0758 - accuracy: 0.4000 - val_loss: 2.0396 - val_accuracy: 0.3767\n",
            "Epoch 6/50\n",
            "10/10 [==============================] - 2s 221ms/step - loss: 1.6642 - accuracy: 0.4600 - val_loss: 1.6239 - val_accuracy: 0.4333\n",
            "Epoch 7/50\n",
            "10/10 [==============================] - 2s 224ms/step - loss: 1.3499 - accuracy: 0.5425 - val_loss: 1.4926 - val_accuracy: 0.4967\n",
            "Epoch 8/50\n",
            "10/10 [==============================] - 2s 206ms/step - loss: 1.2401 - accuracy: 0.5808 - val_loss: 1.4334 - val_accuracy: 0.5233\n",
            "Epoch 9/50\n",
            "10/10 [==============================] - 2s 218ms/step - loss: 1.1401 - accuracy: 0.6308 - val_loss: 1.3702 - val_accuracy: 0.5133\n",
            "Epoch 10/50\n",
            "10/10 [==============================] - 2s 206ms/step - loss: 1.0391 - accuracy: 0.6517 - val_loss: 1.2215 - val_accuracy: 0.5700\n",
            "Epoch 11/50\n",
            "10/10 [==============================] - 2s 219ms/step - loss: 0.9833 - accuracy: 0.6842 - val_loss: 1.2529 - val_accuracy: 0.5833\n",
            "Epoch 12/50\n",
            "10/10 [==============================] - 2s 207ms/step - loss: 0.9518 - accuracy: 0.6942 - val_loss: 1.2304 - val_accuracy: 0.5700\n",
            "Epoch 13/50\n",
            "10/10 [==============================] - 2s 222ms/step - loss: 0.8953 - accuracy: 0.7142 - val_loss: 1.1746 - val_accuracy: 0.6000\n",
            "Epoch 14/50\n",
            "10/10 [==============================] - 2s 226ms/step - loss: 0.8486 - accuracy: 0.7383 - val_loss: 1.1312 - val_accuracy: 0.6367\n",
            "Epoch 15/50\n",
            "10/10 [==============================] - 2s 222ms/step - loss: 0.8166 - accuracy: 0.7508 - val_loss: 1.0437 - val_accuracy: 0.6600\n",
            "Epoch 16/50\n",
            "10/10 [==============================] - 2s 221ms/step - loss: 0.7730 - accuracy: 0.7600 - val_loss: 1.0958 - val_accuracy: 0.6067\n",
            "Epoch 17/50\n",
            "10/10 [==============================] - 2s 220ms/step - loss: 0.7514 - accuracy: 0.7658 - val_loss: 0.9784 - val_accuracy: 0.6533\n",
            "Epoch 18/50\n",
            "10/10 [==============================] - 2s 210ms/step - loss: 0.7147 - accuracy: 0.7958 - val_loss: 1.0368 - val_accuracy: 0.6667\n",
            "Epoch 19/50\n",
            "10/10 [==============================] - 2s 212ms/step - loss: 0.7025 - accuracy: 0.7792 - val_loss: 0.9071 - val_accuracy: 0.7000\n",
            "Epoch 20/50\n",
            "10/10 [==============================] - 2s 229ms/step - loss: 0.6435 - accuracy: 0.8017 - val_loss: 0.8771 - val_accuracy: 0.6967\n",
            "Epoch 21/50\n",
            "10/10 [==============================] - 2s 210ms/step - loss: 0.5798 - accuracy: 0.8400 - val_loss: 0.9061 - val_accuracy: 0.6933\n",
            "Epoch 22/50\n",
            "10/10 [==============================] - 2s 224ms/step - loss: 0.5419 - accuracy: 0.8492 - val_loss: 0.9042 - val_accuracy: 0.6933\n",
            "Epoch 23/50\n",
            "10/10 [==============================] - 2s 211ms/step - loss: 0.5351 - accuracy: 0.8533 - val_loss: 0.8667 - val_accuracy: 0.7167\n",
            "Epoch 24/50\n",
            "10/10 [==============================] - 2s 213ms/step - loss: 0.5363 - accuracy: 0.8517 - val_loss: 0.8164 - val_accuracy: 0.7167\n",
            "Epoch 25/50\n",
            "10/10 [==============================] - 2s 228ms/step - loss: 0.4866 - accuracy: 0.8742 - val_loss: 0.8585 - val_accuracy: 0.6867\n",
            "Epoch 26/50\n",
            "10/10 [==============================] - 2s 215ms/step - loss: 0.4936 - accuracy: 0.8583 - val_loss: 0.7982 - val_accuracy: 0.7267\n",
            "Epoch 27/50\n",
            "10/10 [==============================] - 2s 217ms/step - loss: 0.4766 - accuracy: 0.8633 - val_loss: 0.7183 - val_accuracy: 0.7433\n",
            "Epoch 28/50\n",
            "10/10 [==============================] - 2s 228ms/step - loss: 0.4380 - accuracy: 0.8817 - val_loss: 0.7279 - val_accuracy: 0.7200\n",
            "Epoch 29/50\n",
            "10/10 [==============================] - 2s 233ms/step - loss: 0.3975 - accuracy: 0.8950 - val_loss: 0.7282 - val_accuracy: 0.7600\n",
            "Epoch 30/50\n",
            "10/10 [==============================] - 2s 219ms/step - loss: 0.3551 - accuracy: 0.9258 - val_loss: 0.7048 - val_accuracy: 0.7633\n",
            "Epoch 31/50\n",
            "10/10 [==============================] - 2s 231ms/step - loss: 0.3338 - accuracy: 0.9225 - val_loss: 0.6923 - val_accuracy: 0.7433\n",
            "Epoch 32/50\n",
            "10/10 [==============================] - 2s 236ms/step - loss: 0.3228 - accuracy: 0.9275 - val_loss: 0.7685 - val_accuracy: 0.7200\n",
            "Epoch 33/50\n",
            "10/10 [==============================] - 2s 231ms/step - loss: 0.3322 - accuracy: 0.9208 - val_loss: 0.7616 - val_accuracy: 0.7533\n",
            "Epoch 34/50\n",
            "10/10 [==============================] - 2s 219ms/step - loss: 0.3376 - accuracy: 0.9075 - val_loss: 0.7656 - val_accuracy: 0.7167\n",
            "Epoch 35/50\n",
            "10/10 [==============================] - 2s 233ms/step - loss: 0.3036 - accuracy: 0.9258 - val_loss: 0.6866 - val_accuracy: 0.7333\n",
            "Epoch 36/50\n",
            "10/10 [==============================] - 2s 232ms/step - loss: 0.2568 - accuracy: 0.9442 - val_loss: 0.6227 - val_accuracy: 0.7567\n",
            "Epoch 37/50\n",
            "10/10 [==============================] - 2s 235ms/step - loss: 0.2234 - accuracy: 0.9567 - val_loss: 0.6566 - val_accuracy: 0.7700\n",
            "Epoch 38/50\n",
            "10/10 [==============================] - 2s 237ms/step - loss: 0.2265 - accuracy: 0.9608 - val_loss: 0.5577 - val_accuracy: 0.8067\n",
            "Epoch 39/50\n",
            "10/10 [==============================] - 2s 220ms/step - loss: 0.1990 - accuracy: 0.9683 - val_loss: 0.6079 - val_accuracy: 0.7933\n",
            "Epoch 40/50\n",
            "10/10 [==============================] - 2s 231ms/step - loss: 0.2075 - accuracy: 0.9625 - val_loss: 0.5935 - val_accuracy: 0.7867\n",
            "Epoch 41/50\n",
            "10/10 [==============================] - 2s 230ms/step - loss: 0.1982 - accuracy: 0.9625 - val_loss: 0.5992 - val_accuracy: 0.7767\n",
            "Epoch 42/50\n",
            "10/10 [==============================] - 2s 230ms/step - loss: 0.1745 - accuracy: 0.9758 - val_loss: 0.5413 - val_accuracy: 0.8167\n",
            "Epoch 43/50\n",
            "10/10 [==============================] - 2s 224ms/step - loss: 0.1572 - accuracy: 0.9808 - val_loss: 0.5525 - val_accuracy: 0.7900\n",
            "Epoch 44/50\n",
            "10/10 [==============================] - 2s 236ms/step - loss: 0.1637 - accuracy: 0.9742 - val_loss: 0.5670 - val_accuracy: 0.7867\n",
            "Epoch 45/50\n",
            "10/10 [==============================] - 2s 230ms/step - loss: 0.1467 - accuracy: 0.9850 - val_loss: 0.5315 - val_accuracy: 0.8033\n",
            "Epoch 46/50\n",
            "10/10 [==============================] - 2s 228ms/step - loss: 0.1246 - accuracy: 0.9875 - val_loss: 0.5115 - val_accuracy: 0.8167\n",
            "Epoch 47/50\n",
            "10/10 [==============================] - 2s 217ms/step - loss: 0.1085 - accuracy: 0.9908 - val_loss: 0.5132 - val_accuracy: 0.8200\n",
            "Epoch 48/50\n",
            "10/10 [==============================] - 2s 228ms/step - loss: 0.1030 - accuracy: 0.9933 - val_loss: 0.4994 - val_accuracy: 0.8233\n",
            "Epoch 49/50\n",
            "10/10 [==============================] - 2s 227ms/step - loss: 0.0957 - accuracy: 0.9925 - val_loss: 0.4713 - val_accuracy: 0.8233\n",
            "Epoch 50/50\n",
            "10/10 [==============================] - 2s 233ms/step - loss: 0.0932 - accuracy: 0.9942 - val_loss: 0.5243 - val_accuracy: 0.8167\n"
          ]
        },
        {
          "data": {
            "text/plain": [
              "<keras.callbacks.History at 0x7f0b6c6c14c0>"
            ]
          },
          "execution_count": 31,
          "metadata": {},
          "output_type": "execute_result"
        }
      ],
      "source": [
        "#without gradient clipping\n",
        "\n",
        "input_shape = (22, 2048)\n",
        "input = tf.keras.layers.Input(shape=input_shape)\n",
        "model = transformer_model(input, key_dim = 128, num_transformers=2, num_heads=16, ff_dim=1024, dropout=0.1, pos_encod_type='learned')\n",
        "\n",
        "optimizer = SGD(learning_rate=0.005, momentum=0.9)#, clipvalue=0.5) # Define optimizer with learning rate and momentum\n",
        "model.compile(optimizer=optimizer, loss='categorical_crossentropy', metrics=['accuracy'])\n",
        "\n",
        "train_y2 = to_categorical(y_train2, num_classes=10)\n",
        "test_y2 = to_categorical(y_test2, num_classes=10)\n",
        "\n",
        "# Train model with input data of shape (1500,22,2048) and validate on test set\n",
        "model.fit(X_train2, train_y2 , epochs=50, validation_data=(X_test2, test_y2), batch_size=128)#, callbacks=[EarlyStopping(patience=3)])"
      ]
    },
    {
      "cell_type": "code",
      "execution_count": null,
      "metadata": {
        "id": "hBsPD4iBcZbQ"
      },
      "outputs": [],
      "source": []
    }
  ],
  "metadata": {
    "accelerator": "GPU",
    "colab": {
      "provenance": []
    },
    "gpuClass": "standard",
    "kernelspec": {
      "display_name": "Python 3",
      "name": "python3"
    },
    "language_info": {
      "name": "python"
    }
  },
  "nbformat": 4,
  "nbformat_minor": 0
}